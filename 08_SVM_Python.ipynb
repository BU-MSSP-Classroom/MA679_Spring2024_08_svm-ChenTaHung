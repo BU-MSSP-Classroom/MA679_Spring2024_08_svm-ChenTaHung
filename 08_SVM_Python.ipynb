{
 "cells": [
  {
   "cell_type": "markdown",
   "id": "10ab291b",
   "metadata": {},
   "source": [
    "# Class Workbook"
   ]
  },
  {
   "cell_type": "markdown",
   "id": "e5b1deb9",
   "metadata": {},
   "source": [
    "## In class activity"
   ]
  },
  {
   "cell_type": "code",
   "execution_count": 1,
   "id": "2246cb11",
   "metadata": {
    "kernel": "Python3",
    "tags": [
     "report_cell"
    ]
   },
   "outputs": [],
   "source": [
    "import numpy as np\n",
    "import pandas as pd\n",
    "import math\n",
    "from matplotlib.pyplot import subplots\n",
    "#import statsmodels.api as sm\n",
    "from plotnine import *\n",
    "import plotly.express as px\n",
    "import statsmodels.formula.api as sm\n",
    "#import ISLP as islp\n",
    "\n",
    "import matplotlib.pyplot as plt\n",
    "from sklearn.preprocessing import scale\n",
    "from sklearn.linear_model import LinearRegression"
   ]
  },
  {
   "cell_type": "markdown",
   "id": "c9f32782",
   "metadata": {},
   "source": [
    "### COVID Data\n",
    "\n",
    "Let's revisit COVID data.\n",
    "I've divided the data into training and testing data."
   ]
  },
  {
   "cell_type": "code",
   "execution_count": 2,
   "id": "7e9c9407",
   "metadata": {
    "kernel": "Python3",
    "tags": [
     "report_cell"
    ]
   },
   "outputs": [],
   "source": [
    "import zipfile\n",
    "Train_COVID= pd.read_csv('Train_COVID.zip',compression='zip')\n",
    "Test_COVID= pd.read_csv('Test_COVID.zip',compression='zip')"
   ]
  },
  {
   "cell_type": "code",
   "execution_count": 3,
   "id": "583feb36",
   "metadata": {},
   "outputs": [
    {
     "data": {
      "text/html": [
       "<div>\n",
       "<style scoped>\n",
       "    .dataframe tbody tr th:only-of-type {\n",
       "        vertical-align: middle;\n",
       "    }\n",
       "\n",
       "    .dataframe tbody tr th {\n",
       "        vertical-align: top;\n",
       "    }\n",
       "\n",
       "    .dataframe thead th {\n",
       "        text-align: right;\n",
       "    }\n",
       "</style>\n",
       "<table border=\"1\" class=\"dataframe\">\n",
       "  <thead>\n",
       "    <tr style=\"text-align: right;\">\n",
       "      <th></th>\n",
       "      <th>USMER</th>\n",
       "      <th>MEDICAL_UNIT</th>\n",
       "      <th>SEX</th>\n",
       "      <th>PATIENT_TYPE</th>\n",
       "      <th>DATE_DIED</th>\n",
       "      <th>INTUBED</th>\n",
       "      <th>PNEUMONIA</th>\n",
       "      <th>AGE</th>\n",
       "      <th>PREGNANT</th>\n",
       "      <th>DIABETES</th>\n",
       "      <th>...</th>\n",
       "      <th>OTHER_DISEASE</th>\n",
       "      <th>CARDIOVASCULAR</th>\n",
       "      <th>OBESITY</th>\n",
       "      <th>RENAL_CHRONIC</th>\n",
       "      <th>TOBACCO</th>\n",
       "      <th>CLASIFFICATION_FINAL</th>\n",
       "      <th>ICU</th>\n",
       "      <th>FEMALE</th>\n",
       "      <th>AGE_TRUNK</th>\n",
       "      <th>SURVIVED</th>\n",
       "    </tr>\n",
       "  </thead>\n",
       "  <tbody>\n",
       "    <tr>\n",
       "      <th>0</th>\n",
       "      <td>2</td>\n",
       "      <td>12</td>\n",
       "      <td>2</td>\n",
       "      <td>2</td>\n",
       "      <td>9999-99-99</td>\n",
       "      <td>0.0</td>\n",
       "      <td>1.0</td>\n",
       "      <td>64</td>\n",
       "      <td>0.0</td>\n",
       "      <td>1</td>\n",
       "      <td>...</td>\n",
       "      <td>2</td>\n",
       "      <td>2</td>\n",
       "      <td>2</td>\n",
       "      <td>2</td>\n",
       "      <td>2</td>\n",
       "      <td>5</td>\n",
       "      <td>0.0</td>\n",
       "      <td>0</td>\n",
       "      <td>64</td>\n",
       "      <td>1</td>\n",
       "    </tr>\n",
       "    <tr>\n",
       "      <th>1</th>\n",
       "      <td>1</td>\n",
       "      <td>12</td>\n",
       "      <td>1</td>\n",
       "      <td>1</td>\n",
       "      <td>9999-99-99</td>\n",
       "      <td>NaN</td>\n",
       "      <td>0.0</td>\n",
       "      <td>52</td>\n",
       "      <td>0.0</td>\n",
       "      <td>1</td>\n",
       "      <td>...</td>\n",
       "      <td>2</td>\n",
       "      <td>2</td>\n",
       "      <td>2</td>\n",
       "      <td>2</td>\n",
       "      <td>2</td>\n",
       "      <td>7</td>\n",
       "      <td>NaN</td>\n",
       "      <td>1</td>\n",
       "      <td>52</td>\n",
       "      <td>1</td>\n",
       "    </tr>\n",
       "    <tr>\n",
       "      <th>2</th>\n",
       "      <td>2</td>\n",
       "      <td>4</td>\n",
       "      <td>1</td>\n",
       "      <td>1</td>\n",
       "      <td>9999-99-99</td>\n",
       "      <td>NaN</td>\n",
       "      <td>0.0</td>\n",
       "      <td>30</td>\n",
       "      <td>0.0</td>\n",
       "      <td>2</td>\n",
       "      <td>...</td>\n",
       "      <td>1</td>\n",
       "      <td>2</td>\n",
       "      <td>2</td>\n",
       "      <td>2</td>\n",
       "      <td>1</td>\n",
       "      <td>7</td>\n",
       "      <td>NaN</td>\n",
       "      <td>1</td>\n",
       "      <td>30</td>\n",
       "      <td>1</td>\n",
       "    </tr>\n",
       "    <tr>\n",
       "      <th>3</th>\n",
       "      <td>2</td>\n",
       "      <td>12</td>\n",
       "      <td>1</td>\n",
       "      <td>2</td>\n",
       "      <td>9999-99-99</td>\n",
       "      <td>0.0</td>\n",
       "      <td>0.0</td>\n",
       "      <td>38</td>\n",
       "      <td>0.0</td>\n",
       "      <td>1</td>\n",
       "      <td>...</td>\n",
       "      <td>2</td>\n",
       "      <td>2</td>\n",
       "      <td>1</td>\n",
       "      <td>2</td>\n",
       "      <td>2</td>\n",
       "      <td>3</td>\n",
       "      <td>0.0</td>\n",
       "      <td>1</td>\n",
       "      <td>38</td>\n",
       "      <td>1</td>\n",
       "    </tr>\n",
       "    <tr>\n",
       "      <th>4</th>\n",
       "      <td>2</td>\n",
       "      <td>12</td>\n",
       "      <td>2</td>\n",
       "      <td>2</td>\n",
       "      <td>9999-99-99</td>\n",
       "      <td>0.0</td>\n",
       "      <td>1.0</td>\n",
       "      <td>72</td>\n",
       "      <td>0.0</td>\n",
       "      <td>2</td>\n",
       "      <td>...</td>\n",
       "      <td>2</td>\n",
       "      <td>2</td>\n",
       "      <td>2</td>\n",
       "      <td>2</td>\n",
       "      <td>1</td>\n",
       "      <td>3</td>\n",
       "      <td>0.0</td>\n",
       "      <td>0</td>\n",
       "      <td>72</td>\n",
       "      <td>1</td>\n",
       "    </tr>\n",
       "  </tbody>\n",
       "</table>\n",
       "<p>5 rows × 24 columns</p>\n",
       "</div>"
      ],
      "text/plain": [
       "   USMER  MEDICAL_UNIT  SEX  PATIENT_TYPE   DATE_DIED  INTUBED  PNEUMONIA  \\\n",
       "0      2            12    2             2  9999-99-99      0.0        1.0   \n",
       "1      1            12    1             1  9999-99-99      NaN        0.0   \n",
       "2      2             4    1             1  9999-99-99      NaN        0.0   \n",
       "3      2            12    1             2  9999-99-99      0.0        0.0   \n",
       "4      2            12    2             2  9999-99-99      0.0        1.0   \n",
       "\n",
       "   AGE  PREGNANT  DIABETES  ...  OTHER_DISEASE  CARDIOVASCULAR  OBESITY  \\\n",
       "0   64       0.0         1  ...              2               2        2   \n",
       "1   52       0.0         1  ...              2               2        2   \n",
       "2   30       0.0         2  ...              1               2        2   \n",
       "3   38       0.0         1  ...              2               2        1   \n",
       "4   72       0.0         2  ...              2               2        2   \n",
       "\n",
       "   RENAL_CHRONIC  TOBACCO  CLASIFFICATION_FINAL  ICU  FEMALE  AGE_TRUNK  \\\n",
       "0              2        2                     5  0.0       0         64   \n",
       "1              2        2                     7  NaN       1         52   \n",
       "2              2        1                     7  NaN       1         30   \n",
       "3              2        2                     3  0.0       1         38   \n",
       "4              2        1                     3  0.0       0         72   \n",
       "\n",
       "   SURVIVED  \n",
       "0         1  \n",
       "1         1  \n",
       "2         1  \n",
       "3         1  \n",
       "4         1  \n",
       "\n",
       "[5 rows x 24 columns]"
      ]
     },
     "execution_count": 3,
     "metadata": {},
     "output_type": "execute_result"
    }
   ],
   "source": [
    "Train_COVID.head()"
   ]
  },
  {
   "cell_type": "code",
   "execution_count": 4,
   "id": "3dcde8c8",
   "metadata": {},
   "outputs": [
    {
     "name": "stdout",
     "output_type": "stream",
     "text": [
      "(702545, 24)\n"
     ]
    }
   ],
   "source": [
    "print(Train_COVID.shape)"
   ]
  },
  {
   "cell_type": "markdown",
   "id": "8eff9e6f",
   "metadata": {},
   "source": [
    "Use SVM to classify the patients that survive.\n",
    "See if you can improve the performance over GAM or logistic regression from the previous chapters.\n",
    "\n",
    "Your code:"
   ]
  },
  {
   "cell_type": "code",
   "execution_count": 5,
   "id": "a795e95b",
   "metadata": {
    "Rmd_chunk_options": "echo=TRUE",
    "kernel": "Python3",
    "tags": [
     "report_cell"
    ]
   },
   "outputs": [],
   "source": [
    "X_train = Train_COVID.drop('SURVIVED', axis=1)[['PNEUMONIA', 'AGE', 'PREGNANT', 'DIABETES', 'RENAL_CHRONIC', 'FEMALE']]\n",
    "Y_train = Train_COVID['SURVIVED']\n",
    "X_test = Test_COVID.drop('SURVIVED', axis=1)[['PNEUMONIA', 'AGE', 'PREGNANT', 'DIABETES', 'RENAL_CHRONIC', 'FEMALE']]\n",
    "Y_test = Test_COVID['SURVIVED']\n",
    "\n",
    "X_train = pd.get_dummies(X_train, columns=['PNEUMONIA', 'PREGNANT', 'DIABETES', 'RENAL_CHRONIC', 'FEMALE'])\n",
    "\n",
    "X_test = pd.get_dummies(X_test, columns=['PNEUMONIA', 'PREGNANT', 'DIABETES', 'RENAL_CHRONIC', 'FEMALE'])\n",
    "\n",
    "# normalize AGE column using training statistics\n",
    "meanTrainAGE = X_train['AGE'].mean()\n",
    "stdTrainAGE = X_train['AGE'].std()\n",
    "\n",
    "X_train['AGE_SCALE'] = (X_train['AGE'] - meanTrainAGE)/stdTrainAGE\n",
    "X_test['AGE_SCALE'] = (X_test['AGE'] - meanTrainAGE)/stdTrainAGE\n"
   ]
  },
  {
   "cell_type": "code",
   "execution_count": 6,
   "id": "9cd54ee4",
   "metadata": {},
   "outputs": [],
   "source": [
    "# Take subdatasets to fit SVM\n",
    "X_train_samples  = X_train.sample(n = 10000, random_state=42)\n",
    "Y_train_samples = Y_train.iloc[X_train_samples.index]\n"
   ]
  },
  {
   "cell_type": "code",
   "execution_count": 8,
   "id": "7981aa18",
   "metadata": {},
   "outputs": [],
   "source": [
    "from sklearn.svm import SVC\n",
    "\n",
    "covid_SVM = SVC(kernel = 'linear')\n",
    "covid_SVM.fit(X_train_samples.drop('AGE', axis=1), Y_train_samples)\n",
    "\n",
    "y_pred = covid_SVM.predict(X_test.drop('AGE', axis=1))"
   ]
  },
  {
   "cell_type": "code",
   "execution_count": 9,
   "id": "c190db3a",
   "metadata": {},
   "outputs": [
    {
     "name": "stdout",
     "output_type": "stream",
     "text": [
      "Accuracy: 0.927457156893911\n",
      "[[     0  25102]\n",
      " [     0 320928]]\n"
     ]
    }
   ],
   "source": [
    "from sklearn.metrics import confusion_matrix, accuracy_score\n",
    "print(\"Accuracy:\", accuracy_score(Y_test, y_pred))\n",
    "\n",
    "print(confusion_matrix(Y_test, y_pred))"
   ]
  },
  {
   "cell_type": "markdown",
   "id": "06bfa018",
   "metadata": {},
   "source": [
    "Your answer:\n",
    "\n",
    "~~~\n",
    "Please write your answer in full sentences.\n",
    "\n",
    "\n",
    "~~~"
   ]
  },
  {
   "cell_type": "markdown",
   "id": "80e1a079",
   "metadata": {},
   "source": [
    "### Ames Housing data\n",
    "\n",
    "Let's revisit Ames Housing data."
   ]
  },
  {
   "cell_type": "code",
   "execution_count": 3,
   "id": "ef3228a2",
   "metadata": {
    "Rmd_chunk_options": "echo=show_code",
    "kernel": "Python3",
    "tags": [
     "report_cell"
    ]
   },
   "outputs": [],
   "source": [
    "ames_raw=pd.read_csv(\"ames_raw.csv\")"
   ]
  },
  {
   "cell_type": "markdown",
   "id": "b80401a2",
   "metadata": {},
   "source": [
    "### Questions\n",
    "\n",
    "Use data of `ames_raw` up to 2008 to predict the housing price for the later years."
   ]
  },
  {
   "cell_type": "code",
   "execution_count": 4,
   "id": "027e5efd",
   "metadata": {
    "Rmd_chunk_options": "echo=show_code",
    "kernel": "Python3",
    "tags": [
     "report_cell"
    ]
   },
   "outputs": [],
   "source": [
    "ames_raw_2009, ames_raw_2008= ames_raw.query('`Yr Sold`>=2008').copy(), ames_raw.query('`Yr Sold` <2008').copy()"
   ]
  },
  {
   "cell_type": "markdown",
   "id": "a9db94af",
   "metadata": {},
   "source": [
    "Use the same loss function calculator."
   ]
  },
  {
   "cell_type": "code",
   "execution_count": 5,
   "id": "ab4d6816",
   "metadata": {
    "Rmd_chunk_options": "echo=show_code",
    "kernel": "Python3",
    "tags": [
     "report_cell"
    ]
   },
   "outputs": [],
   "source": [
    "def calc_loss(prediction,actual):\n",
    "  difpred = actual-prediction\n",
    "  RMSE =pow(difpred.pow(2).mean(),1/2)\n",
    "  operation_loss=abs(sum(difpred[difpred<0]))+sum(0.1*actual[difpred>0])\n",
    "  return RMSE,operation_loss"
   ]
  },
  {
   "cell_type": "code",
   "execution_count": 7,
   "id": "9fafb749",
   "metadata": {},
   "outputs": [
    {
     "data": {
      "text/plain": [
       "Index(['Order', 'PID', 'MS SubClass', 'MS Zoning', 'Lot Frontage', 'Lot Area',\n",
       "       'Street', 'Alley', 'Lot Shape', 'Land Contour', 'Utilities',\n",
       "       'Lot Config', 'Land Slope', 'Neighborhood', 'Condition 1',\n",
       "       'Condition 2', 'Bldg Type', 'House Style', 'Overall Qual',\n",
       "       'Overall Cond', 'Year Built', 'Year Remod/Add', 'Roof Style',\n",
       "       'Roof Matl', 'Exterior 1st', 'Exterior 2nd', 'Mas Vnr Type',\n",
       "       'Mas Vnr Area', 'Exter Qual', 'Exter Cond', 'Foundation', 'Bsmt Qual',\n",
       "       'Bsmt Cond', 'Bsmt Exposure', 'BsmtFin Type 1', 'BsmtFin SF 1',\n",
       "       'BsmtFin Type 2', 'BsmtFin SF 2', 'Bsmt Unf SF', 'Total Bsmt SF',\n",
       "       'Heating', 'Heating QC', 'Central Air', 'Electrical', '1st Flr SF',\n",
       "       '2nd Flr SF', 'Low Qual Fin SF', 'Gr Liv Area', 'Bsmt Full Bath',\n",
       "       'Bsmt Half Bath', 'Full Bath', 'Half Bath', 'Bedroom AbvGr',\n",
       "       'Kitchen AbvGr', 'Kitchen Qual', 'TotRms AbvGrd', 'Functional',\n",
       "       'Fireplaces', 'Fireplace Qu', 'Garage Type', 'Garage Yr Blt',\n",
       "       'Garage Finish', 'Garage Cars', 'Garage Area', 'Garage Qual',\n",
       "       'Garage Cond', 'Paved Drive', 'Wood Deck SF', 'Open Porch SF',\n",
       "       'Enclosed Porch', '3Ssn Porch', 'Screen Porch', 'Pool Area', 'Pool QC',\n",
       "       'Fence', 'Misc Feature', 'Misc Val', 'Mo Sold', 'Yr Sold', 'Sale Type',\n",
       "       'Sale Condition', 'SalePrice'],\n",
       "      dtype='object')"
      ]
     },
     "execution_count": 7,
     "metadata": {},
     "output_type": "execute_result"
    }
   ],
   "source": [
    "ames_raw_2008.columns"
   ]
  },
  {
   "cell_type": "markdown",
   "id": "d0793a88",
   "metadata": {},
   "source": [
    "Fit support vector regression to the sales price.  How is the prediction compared to the previous models you've fit?\n",
    "\n",
    "Your code:"
   ]
  },
  {
   "cell_type": "code",
   "execution_count": 12,
   "id": "810201f6",
   "metadata": {},
   "outputs": [],
   "source": [
    "Sel_vars = ['Lot Area', 'Overall Qual', 'Overall Cond', 'Year Built', 'Year Remod/Add', '1st Flr SF',\n",
    "       '2nd Flr SF', 'Low Qual Fin SF', 'Gr Liv Area', 'Full Bath', 'Half Bath', 'Bedroom AbvGr', 'Kitchen AbvGr', 'TotRms AbvGrd',\n",
    "       'Fireplaces', 'Wood Deck SF', 'Open Porch SF', 'Enclosed Porch', '3Ssn Porch', 'Screen Porch', 'Pool Area', 'Misc Val', 'Mo Sold','Yr Sold']"
   ]
  },
  {
   "cell_type": "code",
   "execution_count": 14,
   "id": "955ef0da",
   "metadata": {
    "Rmd_chunk_options": "echo=TRUE",
    "kernel": "Python3",
    "tags": [
     "report_cell"
    ]
   },
   "outputs": [
    {
     "data": {
      "text/plain": [
       "(75430.38305521224, 47102762.50275023)"
      ]
     },
     "execution_count": 14,
     "metadata": {},
     "output_type": "execute_result"
    }
   ],
   "source": [
    "from sklearn.svm import SVR\n",
    "from sklearn.preprocessing import StandardScaler\n",
    "scaler = StandardScaler()\n",
    "\n",
    "X_train = scaler.fit_transform(ames_raw_2008[Sel_vars])\n",
    "X_test = scaler.transform(ames_raw_2009[Sel_vars])\n",
    "y_train = ames_raw_2008['SalePrice']\n",
    "y_test = ames_raw_2009['SalePrice']\n",
    "\n",
    "svr = SVR(kernel='linear')\n",
    "svr.fit(X_train, y_train)\n",
    "\n",
    "y_pred = svr.predict(X_test)\n",
    "calc_loss(y_pred,y_test)"
   ]
  },
  {
   "cell_type": "markdown",
   "id": "fa0e8144",
   "metadata": {},
   "source": [
    "Your answer:\n",
    "\n",
    "~~~\n",
    "Please write your answer in full sentences.\n",
    "\n",
    "\n",
    "~~~"
   ]
  },
  {
   "cell_type": "markdown",
   "id": "e7d9bc5e",
   "metadata": {},
   "source": [
    "## Problem Set"
   ]
  },
  {
   "cell_type": "markdown",
   "id": "b9443eac",
   "metadata": {},
   "source": [
    "### SVC\n",
    "\n",
    "Generate a simulated two-class data set with 100 observations and two features with a visible but non-linear separation between the two classes. Show that in this setting, a support vector machine with a polynomial kernel (with degree greater than 1) or a radial kernel will outperform a support vector classifier on the training data. Which technique performs best on the test data? Make plots and report training and test error rates in order to back up your assertions.\n",
    "\n",
    "Your code:"
   ]
  },
  {
   "cell_type": "code",
   "execution_count": 11,
   "id": "f35509cf",
   "metadata": {
    "Rmd_chunk_options": "echo=TRUE",
    "kernel": "Python3",
    "tags": [
     "report_cell"
    ]
   },
   "outputs": [],
   "source": [
    "#\n",
    "#"
   ]
  },
  {
   "cell_type": "markdown",
   "id": "bd364b87",
   "metadata": {},
   "source": [
    "Your answer:\n",
    "\n",
    "~~~\n",
    "Please write your answer in full sentences.\n",
    "\n",
    "\n",
    "~~~"
   ]
  },
  {
   "cell_type": "markdown",
   "id": "87b5ebf0",
   "metadata": {},
   "source": [
    "### Kernel\n",
    "\n",
    "We have seen that we can fit an SVM with a non-linear kernel in order to perform classification using a non-linear decision boundary. We will now see that we can also obtain a non-linear decision boundary by performing logistic regression using non-linear transformations of the features.\n",
    "\n",
    "(a) Generate a data set with `n = 500` and `p = 2`, such that the observations belong to two classes with a quadratic decision boundary between them. For instance, you can do this as follows:"
   ]
  },
  {
   "cell_type": "code",
   "execution_count": 12,
   "id": "b1008177",
   "metadata": {
    "Rmd_chunk_options": "eval=TRUE",
    "kernel": "Python3",
    "tags": [
     "report_cell"
    ]
   },
   "outputs": [],
   "source": [
    "rng = np.random.default_rng(5)\n",
    "x1 = rng.uniform(size=500) - 0.5\n",
    "x2 = rng.uniform(size=500) - 0.5\n",
    "y = x1**2 - x2**2 > 0"
   ]
  },
  {
   "cell_type": "markdown",
   "id": "19d51697",
   "metadata": {},
   "source": [
    "Your code:"
   ]
  },
  {
   "cell_type": "code",
   "execution_count": 13,
   "id": "aa4fc879",
   "metadata": {
    "Rmd_chunk_options": "echo=TRUE",
    "kernel": "Python3",
    "tags": [
     "report_cell"
    ]
   },
   "outputs": [],
   "source": [
    "#\n",
    "#"
   ]
  },
  {
   "cell_type": "markdown",
   "id": "0ffae4ed",
   "metadata": {},
   "source": [
    "(b) Plot the observations, colored according to their class labels.  Your plot should display $X_1$ on the x-axis, and $X_2$ on the yaxis.\n",
    "\n",
    "Your code:"
   ]
  },
  {
   "cell_type": "code",
   "execution_count": 14,
   "id": "345d8da8",
   "metadata": {
    "Rmd_chunk_options": "echo=TRUE",
    "kernel": "Python3",
    "tags": [
     "report_cell"
    ]
   },
   "outputs": [],
   "source": [
    "#\n",
    "#"
   ]
  },
  {
   "cell_type": "markdown",
   "id": "7c8502d7",
   "metadata": {},
   "source": [
    "(c) Fit a logistic regression model to the data, using $X_1$ and $X_2$ as predictors.\n",
    "\n",
    "Your code:"
   ]
  },
  {
   "cell_type": "code",
   "execution_count": 15,
   "id": "432c92f5",
   "metadata": {
    "Rmd_chunk_options": "echo=TRUE",
    "kernel": "Python3",
    "tags": [
     "report_cell"
    ]
   },
   "outputs": [],
   "source": [
    "#\n",
    "#"
   ]
  },
  {
   "cell_type": "markdown",
   "id": "4948b995",
   "metadata": {},
   "source": [
    "(d) Apply this model to the training data in order to obtain a predicted class label for each training observation. Plot the observations, colored according to the predicted class labels. The decision boundary should be linear.\n",
    "\n",
    "\n",
    "Your code:"
   ]
  },
  {
   "cell_type": "code",
   "execution_count": 16,
   "id": "363079eb",
   "metadata": {
    "Rmd_chunk_options": "echo=TRUE",
    "kernel": "Python3",
    "tags": [
     "report_cell"
    ]
   },
   "outputs": [],
   "source": [
    "#\n",
    "#"
   ]
  },
  {
   "cell_type": "markdown",
   "id": "47b443ff",
   "metadata": {},
   "source": [
    "(e) Now fit a logistic regression model to the data using non-linear functions of $X_1$ and $X_2$ as predictors (e.g. $X^2_1$ , $X_1\\times X_2$, $log(X_2)$, and so forth).\n",
    "\n",
    "Your code:"
   ]
  },
  {
   "cell_type": "code",
   "execution_count": 17,
   "id": "655dbe5b",
   "metadata": {
    "Rmd_chunk_options": "echo=TRUE",
    "kernel": "Python3",
    "tags": [
     "report_cell"
    ]
   },
   "outputs": [],
   "source": [
    "#\n",
    "#"
   ]
  },
  {
   "cell_type": "markdown",
   "id": "3c6b2d73",
   "metadata": {},
   "source": [
    "(f) Apply this model to the training data in order to obtain a predicted class label for each training observation. Plot the observations, colored according to the predicted class labels. The decision boundary should be obviously non-linear. If it is not, then repeat (a)-(e) until you come up with an example in which the predicted class labels are obviously non-linear.\n",
    "\n",
    "\n",
    "Your code:"
   ]
  },
  {
   "cell_type": "code",
   "execution_count": 18,
   "id": "cd67c928",
   "metadata": {
    "Rmd_chunk_options": "echo=TRUE",
    "kernel": "Python3",
    "tags": [
     "report_cell"
    ]
   },
   "outputs": [],
   "source": [
    "#\n",
    "#"
   ]
  },
  {
   "cell_type": "markdown",
   "id": "e360c78f",
   "metadata": {},
   "source": [
    "(g) Fit a support vector classifier to the data with $X_1$ and $X_2$ as predictors. Obtain a class prediction for each training observation. Plot the observations, colored according to the predicted class labels.\n",
    "\n",
    "\n",
    "Your code:"
   ]
  },
  {
   "cell_type": "code",
   "execution_count": 19,
   "id": "a24804ef",
   "metadata": {
    "Rmd_chunk_options": "echo=TRUE",
    "kernel": "Python3",
    "tags": [
     "report_cell"
    ]
   },
   "outputs": [],
   "source": [
    "#\n",
    "#"
   ]
  },
  {
   "cell_type": "markdown",
   "id": "bc3575b2",
   "metadata": {},
   "source": [
    "(h) Fit a SVM using a non-linear kernel to the data. Obtain a class prediction for each training observation. Plot the observations, colored according to the predicted class labels.\n",
    "\n",
    "Your code:"
   ]
  },
  {
   "cell_type": "code",
   "execution_count": 20,
   "id": "4f465cc5",
   "metadata": {
    "Rmd_chunk_options": "echo=TRUE",
    "kernel": "Python3",
    "tags": [
     "report_cell"
    ]
   },
   "outputs": [],
   "source": [
    "#\n",
    "#"
   ]
  },
  {
   "cell_type": "markdown",
   "id": "32f60436",
   "metadata": {},
   "source": [
    "(i) Comment on your results.\n",
    "\n",
    "\n",
    "Your answer:\n",
    "\n",
    "~~~\n",
    "Please write your answer in full sentences.\n",
    "\n",
    "\n",
    "~~~"
   ]
  },
  {
   "cell_type": "markdown",
   "id": "af506bfa",
   "metadata": {},
   "source": [
    "### Auto\n",
    "\n",
    "In this problem, you will use support vector approaches in order to\n",
    "predict whether a given car gets high or low gas mileage based on the\n",
    "Auto data set."
   ]
  },
  {
   "cell_type": "code",
   "execution_count": 57,
   "id": "37452eb4",
   "metadata": {
    "kernel": "Python3",
    "tags": [
     "report_cell"
    ]
   },
   "outputs": [],
   "source": [
    "from ISLP import load_data\n",
    "Auto = load_data(\"Auto\")"
   ]
  },
  {
   "cell_type": "code",
   "execution_count": 58,
   "id": "9711e1ca",
   "metadata": {},
   "outputs": [
    {
     "data": {
      "text/html": [
       "<div>\n",
       "<style scoped>\n",
       "    .dataframe tbody tr th:only-of-type {\n",
       "        vertical-align: middle;\n",
       "    }\n",
       "\n",
       "    .dataframe tbody tr th {\n",
       "        vertical-align: top;\n",
       "    }\n",
       "\n",
       "    .dataframe thead th {\n",
       "        text-align: right;\n",
       "    }\n",
       "</style>\n",
       "<table border=\"1\" class=\"dataframe\">\n",
       "  <thead>\n",
       "    <tr style=\"text-align: right;\">\n",
       "      <th></th>\n",
       "      <th>mpg</th>\n",
       "      <th>cylinders</th>\n",
       "      <th>displacement</th>\n",
       "      <th>horsepower</th>\n",
       "      <th>weight</th>\n",
       "      <th>acceleration</th>\n",
       "      <th>year</th>\n",
       "      <th>origin</th>\n",
       "      <th>name</th>\n",
       "    </tr>\n",
       "  </thead>\n",
       "  <tbody>\n",
       "    <tr>\n",
       "      <th>0</th>\n",
       "      <td>18.0</td>\n",
       "      <td>8</td>\n",
       "      <td>307.0</td>\n",
       "      <td>130</td>\n",
       "      <td>3504</td>\n",
       "      <td>12.0</td>\n",
       "      <td>70</td>\n",
       "      <td>1</td>\n",
       "      <td>chevrolet chevelle malibu</td>\n",
       "    </tr>\n",
       "    <tr>\n",
       "      <th>1</th>\n",
       "      <td>15.0</td>\n",
       "      <td>8</td>\n",
       "      <td>350.0</td>\n",
       "      <td>165</td>\n",
       "      <td>3693</td>\n",
       "      <td>11.5</td>\n",
       "      <td>70</td>\n",
       "      <td>1</td>\n",
       "      <td>buick skylark 320</td>\n",
       "    </tr>\n",
       "    <tr>\n",
       "      <th>2</th>\n",
       "      <td>18.0</td>\n",
       "      <td>8</td>\n",
       "      <td>318.0</td>\n",
       "      <td>150</td>\n",
       "      <td>3436</td>\n",
       "      <td>11.0</td>\n",
       "      <td>70</td>\n",
       "      <td>1</td>\n",
       "      <td>plymouth satellite</td>\n",
       "    </tr>\n",
       "    <tr>\n",
       "      <th>3</th>\n",
       "      <td>16.0</td>\n",
       "      <td>8</td>\n",
       "      <td>304.0</td>\n",
       "      <td>150</td>\n",
       "      <td>3433</td>\n",
       "      <td>12.0</td>\n",
       "      <td>70</td>\n",
       "      <td>1</td>\n",
       "      <td>amc rebel sst</td>\n",
       "    </tr>\n",
       "    <tr>\n",
       "      <th>4</th>\n",
       "      <td>17.0</td>\n",
       "      <td>8</td>\n",
       "      <td>302.0</td>\n",
       "      <td>140</td>\n",
       "      <td>3449</td>\n",
       "      <td>10.5</td>\n",
       "      <td>70</td>\n",
       "      <td>1</td>\n",
       "      <td>ford torino</td>\n",
       "    </tr>\n",
       "  </tbody>\n",
       "</table>\n",
       "</div>"
      ],
      "text/plain": [
       "    mpg  cylinders  displacement  horsepower  weight  acceleration  year  \\\n",
       "0  18.0          8         307.0         130    3504          12.0    70   \n",
       "1  15.0          8         350.0         165    3693          11.5    70   \n",
       "2  18.0          8         318.0         150    3436          11.0    70   \n",
       "3  16.0          8         304.0         150    3433          12.0    70   \n",
       "4  17.0          8         302.0         140    3449          10.5    70   \n",
       "\n",
       "   origin                       name  \n",
       "0       1  chevrolet chevelle malibu  \n",
       "1       1          buick skylark 320  \n",
       "2       1         plymouth satellite  \n",
       "3       1              amc rebel sst  \n",
       "4       1                ford torino  "
      ]
     },
     "execution_count": 58,
     "metadata": {},
     "output_type": "execute_result"
    }
   ],
   "source": [
    "Auto.head()"
   ]
  },
  {
   "cell_type": "markdown",
   "id": "18ff66ac",
   "metadata": {},
   "source": [
    "(a) Create a binary variable that takes on a 1 for cars with gas mileage above the median, and a 0 for cars with gas mileage below the median.\n",
    "\n",
    "Your code:"
   ]
  },
  {
   "cell_type": "code",
   "execution_count": 60,
   "id": "cf63032e",
   "metadata": {
    "Rmd_chunk_options": "echo=TRUE",
    "kernel": "Python3",
    "tags": [
     "report_cell"
    ]
   },
   "outputs": [],
   "source": [
    "Auto['mpgInt'] = (Auto['mpg'] > Auto['mpg'].median()).astype(int)"
   ]
  },
  {
   "cell_type": "code",
   "execution_count": 61,
   "id": "ebb172d4",
   "metadata": {},
   "outputs": [
    {
     "data": {
      "text/plain": [
       "mpg             127\n",
       "cylinders         5\n",
       "displacement     81\n",
       "horsepower       93\n",
       "weight          346\n",
       "acceleration     95\n",
       "year             13\n",
       "origin            3\n",
       "name            301\n",
       "mpgInt            2\n",
       "dtype: int64"
      ]
     },
     "execution_count": 61,
     "metadata": {},
     "output_type": "execute_result"
    }
   ],
   "source": [
    "Auto.apply(lambda x: len(x.value_counts()))"
   ]
  },
  {
   "cell_type": "markdown",
   "id": "4cd2546c",
   "metadata": {},
   "source": [
    "Your answer:\n",
    "\n",
    "~~~\n",
    "Please write your answer in full sentences.\n",
    "\n",
    "\n",
    "~~~\n",
    "\n",
    "\n",
    "(b) Fit a support vector classifier to the data with various values of cost, in order to predict whether a car gets high or low gas mileage. Report the cross-validation errors associated with different values of this parameter. Comment on your results. Note you will need to fit the classifier without the gas mileage variable to produce sensible results.\n",
    "\n",
    "Your code:"
   ]
  },
  {
   "cell_type": "code",
   "execution_count": 77,
   "id": "17520534",
   "metadata": {
    "Rmd_chunk_options": "echo=TRUE",
    "kernel": "Python3",
    "tags": [
     "report_cell"
    ]
   },
   "outputs": [],
   "source": [
    "from sklearn.model_selection import GridSearchCV, cross_val_score\n",
    "from sklearn.svm import SVC\n",
    "from sklearn.preprocessing import StandardScaler\n",
    "\n",
    "auto = Auto.drop('name', axis = 1)\n",
    "X = auto.drop('mpgInt', axis = 1)\n",
    "y = auto['mpgInt']\n",
    "\n",
    "scaler = StandardScaler()\n",
    "X = scaler.fit_transform(X)\n"
   ]
  },
  {
   "cell_type": "code",
   "execution_count": 78,
   "id": "876bcad7",
   "metadata": {},
   "outputs": [
    {
     "name": "stdout",
     "output_type": "stream",
     "text": [
      "Best C: 100\n",
      "Error for CV 'C' = 0.01 at iteration 1: 0.0\n",
      "Error for CV 'C' = 0.1 at iteration 2: 0.0\n",
      "Error for CV 'C' = 1 at iteration 3: 0.012820512820512775\n",
      "Error for CV 'C' = 10 at iteration 4: 0.0\n",
      "Error for CV 'C' = 100 at iteration 5: 0.0\n",
      "Mean Cross-Validation Error: 0.002564102564102555\n"
     ]
    }
   ],
   "source": [
    "# CV\n",
    "svc = SVC(kernel = 'linear')\n",
    "param_grid = {'C': [0.01, 0.1, 1, 10, 100]}\n",
    "gridAutoLinear = GridSearchCV(svc, param_grid, cv = 10)\n",
    "gridAutoLinear.fit(X, y)\n",
    "\n",
    "best_C = gridAutoLinear.best_params_['C']\n",
    "print(\"Best C:\", best_C)\n",
    "\n",
    "auto_linear_svc_best = SVC(kernel='linear', C=best_C)\n",
    "auto_linear_svc_best.fit(X, y)\n",
    "\n",
    "scores = cross_val_score(auto_linear_svc_best, X, y, cv=5, scoring='accuracy')\n",
    "errors = 1 - scores\n",
    "for i, error in enumerate(errors, 1):\n",
    "    print(f\"Error for CV 'C' = {param_grid.get('C')[i-1]} at iteration {i}: {error}\")\n",
    "\n",
    "# Report the mean cross-validation error\n",
    "mean_error = errors.mean()\n",
    "print(\"Mean Cross-Validation Error:\", mean_error)"
   ]
  },
  {
   "cell_type": "markdown",
   "id": "dac89106",
   "metadata": {},
   "source": [
    "Your answer:\n",
    "\n",
    "~~~\n",
    "Please write your answer in full sentences.\n",
    "\n",
    "\n",
    "~~~\n",
    "\n",
    "(c) Now repeat (b), this time using SVMs with radial and polynomial basis kernels, with different values of gamma and degree and cost. Comment on your results.\n",
    "\n",
    "Your code:"
   ]
  },
  {
   "cell_type": "code",
   "execution_count": 79,
   "id": "7004d3df",
   "metadata": {
    "Rmd_chunk_options": "echo=TRUE",
    "kernel": "Python3",
    "tags": [
     "report_cell"
    ]
   },
   "outputs": [
    {
     "name": "stdout",
     "output_type": "stream",
     "text": [
      "Best C for Radial: 100\n",
      "Error for Radial CV 'C' = 0.01 at iteration 1: 0.11392405063291144\n",
      "Error for Radial CV 'C' = 0.1 at iteration 2: 0.025316455696202556\n",
      "Error for Radial CV 'C' = 1 at iteration 3: 0.05128205128205132\n",
      "Error for Radial CV 'C' = 10 at iteration 4: 0.05128205128205132\n",
      "Error for Radial CV 'C' = 100 at iteration 5: 0.038461538461538436\n",
      "Mean Cross-Validation Error for Radial: 0.05605322947095102\n"
     ]
    }
   ],
   "source": [
    "svc_radial = SVC(kernel = 'rbf')\n",
    "gridAutoRadial = GridSearchCV(svc_radial, param_grid, cv = 10)\n",
    "gridAutoRadial.fit(X, y)\n",
    "\n",
    "best_C_radial = gridAutoRadial.best_params_['C']\n",
    "print(\"Best C for Radial:\", best_C_radial)\n",
    "\n",
    "auto_radial_svc_best = SVC(kernel='rbf', C=best_C_radial)\n",
    "auto_radial_svc_best.fit(X, y)\n",
    "\n",
    "scores_radial = cross_val_score(auto_radial_svc_best, X, y, cv=5, scoring='accuracy')\n",
    "errors_radial = 1 - scores_radial\n",
    "for i, error in enumerate(errors_radial, 1):\n",
    "    print(f\"Error for Radial CV 'C' = {param_grid.get('C')[i-1]} at iteration {i}: {error}\")\n",
    "\n",
    "mean_error_radial = errors_radial.mean()\n",
    "print(\"Mean Cross-Validation Error for Radial:\", mean_error_radial)"
   ]
  },
  {
   "cell_type": "code",
   "execution_count": 80,
   "id": "f26f2882",
   "metadata": {},
   "outputs": [
    {
     "name": "stdout",
     "output_type": "stream",
     "text": [
      "Best C for Polynomial: 10\n",
      "Error for Polynomial CV 'C' = 0.01 at iteration 1: 0.40506329113924056\n",
      "Error for Polynomial CV 'C' = 0.1 at iteration 2: 0.26582278481012656\n",
      "Error for Polynomial CV 'C' = 1 at iteration 3: 0.15384615384615385\n",
      "Error for Polynomial CV 'C' = 10 at iteration 4: 0.10256410256410253\n",
      "Error for Polynomial CV 'C' = 100 at iteration 5: 0.3076923076923077\n",
      "Mean Cross-Validation Error for Polynomial: 0.24699772801038625\n"
     ]
    }
   ],
   "source": [
    "svc_poly = SVC(kernel = 'poly', degree=2)\n",
    "gridAutoPoly = GridSearchCV(svc_poly, param_grid, cv = 10)\n",
    "gridAutoPoly.fit(X, y)\n",
    "\n",
    "best_C_poly = gridAutoPoly.best_params_['C']\n",
    "print(\"Best C for Polynomial:\", best_C_poly)\n",
    "\n",
    "auto_poly_svc_best = SVC(kernel='poly', degree=2, C=best_C_poly)\n",
    "auto_poly_svc_best.fit(X, y)\n",
    "\n",
    "scores_poly = cross_val_score(auto_poly_svc_best, X, y, cv=5, scoring='accuracy')\n",
    "errors_poly = 1 - scores_poly\n",
    "for i, error in enumerate(errors_poly, 1):\n",
    "    print(f\"Error for Polynomial CV 'C' = {param_grid.get('C')[i-1]} at iteration {i}: {error}\")\n",
    "\n",
    "mean_error_poly = errors_poly.mean()\n",
    "print(\"Mean Cross-Validation Error for Polynomial:\", mean_error_poly)"
   ]
  },
  {
   "cell_type": "markdown",
   "id": "d92459f6",
   "metadata": {},
   "source": [
    "Your answer:\n",
    "\n",
    "~~~\n",
    "Please write your answer in full sentences.\n",
    "\n",
    "\n",
    "~~~\n",
    "\n",
    "(d) Make some plots to back up your assertions in (b) and (c).\n",
    "\n",
    "Hint: In the lab, we used the `plot_svm()` function for fitted SVMs.\n",
    "When `p > 2`, you can use the keyword argument features to\n",
    "create plots displaying pairs of variables at a time.\n",
    "\n",
    "Your code:"
   ]
  },
  {
   "cell_type": "code",
   "execution_count": null,
   "id": "834fa700",
   "metadata": {},
   "outputs": [],
   "source": [
    "import matplotlib.pyplot as plt\n",
    "import numpy as np\n",
    "\n",
    "def plot_svc_decision_function(model, ax=None, plot_support=True):\n",
    "    \"\"\"Plot the decision function for a 2D SVC\"\"\"\n",
    "    if ax is None:\n",
    "        ax = plt.gca()\n",
    "    xlim = ax.get_xlim()\n",
    "    ylim = ax.get_ylim()\n",
    "    \n",
    "    # create grid to evaluate model\n",
    "    x = np.linspace(xlim[0], xlim[1], 30)\n",
    "    y = np.linspace(ylim[0], ylim[1], 30)\n",
    "    Y, X = np.meshgrid(y, x)\n",
    "    xy = np.vstack([X.ravel(), Y.ravel()]).T\n",
    "    P = model.decision_function(xy).reshape(X.shape)\n",
    "    \n",
    "    # plot decision boundary and margins\n",
    "    ax.contour(X, Y, P, colors='k',\n",
    "               levels=[-1, 0, 1], alpha=0.5,\n",
    "               linestyles=['--', '-', '--'])\n",
    "    \n",
    "    # plot support vectors\n",
    "    if plot_support:\n",
    "        ax.scatter(model.support_vectors_[:, 0],\n",
    "                   model.support_vectors_[:, 1],\n",
    "                   s=300, linewidth=1, facecolors='none');\n",
    "    ax.set_xlim(xlim)\n",
    "    ax.set_ylim(ylim)"
   ]
  },
  {
   "cell_type": "code",
   "execution_count": 82,
   "id": "a18d0137",
   "metadata": {},
   "outputs": [
    {
     "data": {
      "image/png": "[encoded data removed]",
      "text/plain": [
       "<Figure size 640x480 with 1 Axes>"
      ]
     },
     "metadata": {},
     "output_type": "display_data"
    }
   ],
   "source": [
    "from sklearn.decomposition import PCA\n",
    "\n",
    "# Reduce the dimensionality of the data to 2D using PCA\n",
    "pca = PCA(n_components=2)\n",
    "X_2D = pca.fit_transform(X)\n",
    "\n",
    "auto_radial_svc_best.fit(X_2D, y)\n",
    "\n",
    "plt.scatter(X_2D[:, 0], X_2D[:, 1], c=y, s=50, cmap='autumn')\n",
    "plot_svc_decision_function(auto_radial_svc_best)\n",
    "plt.show()"
   ]
  },
  {
   "cell_type": "markdown",
   "id": "8f4d8000",
   "metadata": {},
   "source": [
    "Your answer:\n",
    "\n",
    "~~~\n",
    "Please write your answer in full sentences.\n",
    "\n",
    "\n",
    "~~~"
   ]
  },
  {
   "cell_type": "markdown",
   "id": "018dcc83",
   "metadata": {},
   "source": [
    "### OJ\n",
    "This problem involves the OJ data set which is part of the ISLR2 package."
   ]
  },
  {
   "cell_type": "code",
   "execution_count": 6,
   "id": "6496fadd",
   "metadata": {
    "kernel": "Python3",
    "tags": [
     "report_cell"
    ]
   },
   "outputs": [],
   "source": [
    "from ISLP import load_data\n",
    "OJ = load_data(\"OJ\")"
   ]
  },
  {
   "cell_type": "code",
   "execution_count": 7,
   "id": "638c9e99",
   "metadata": {},
   "outputs": [
    {
     "data": {
      "text/html": [
       "<div>\n",
       "<style scoped>\n",
       "    .dataframe tbody tr th:only-of-type {\n",
       "        vertical-align: middle;\n",
       "    }\n",
       "\n",
       "    .dataframe tbody tr th {\n",
       "        vertical-align: top;\n",
       "    }\n",
       "\n",
       "    .dataframe thead th {\n",
       "        text-align: right;\n",
       "    }\n",
       "</style>\n",
       "<table border=\"1\" class=\"dataframe\">\n",
       "  <thead>\n",
       "    <tr style=\"text-align: right;\">\n",
       "      <th></th>\n",
       "      <th>Purchase</th>\n",
       "      <th>WeekofPurchase</th>\n",
       "      <th>StoreID</th>\n",
       "      <th>PriceCH</th>\n",
       "      <th>PriceMM</th>\n",
       "      <th>DiscCH</th>\n",
       "      <th>DiscMM</th>\n",
       "      <th>SpecialCH</th>\n",
       "      <th>SpecialMM</th>\n",
       "      <th>LoyalCH</th>\n",
       "      <th>SalePriceMM</th>\n",
       "      <th>SalePriceCH</th>\n",
       "      <th>PriceDiff</th>\n",
       "      <th>Store7</th>\n",
       "      <th>PctDiscMM</th>\n",
       "      <th>PctDiscCH</th>\n",
       "      <th>ListPriceDiff</th>\n",
       "      <th>STORE</th>\n",
       "    </tr>\n",
       "  </thead>\n",
       "  <tbody>\n",
       "    <tr>\n",
       "      <th>0</th>\n",
       "      <td>CH</td>\n",
       "      <td>237</td>\n",
       "      <td>1</td>\n",
       "      <td>1.75</td>\n",
       "      <td>1.99</td>\n",
       "      <td>0.00</td>\n",
       "      <td>0.0</td>\n",
       "      <td>0</td>\n",
       "      <td>0</td>\n",
       "      <td>0.500000</td>\n",
       "      <td>1.99</td>\n",
       "      <td>1.75</td>\n",
       "      <td>0.24</td>\n",
       "      <td>No</td>\n",
       "      <td>0.000000</td>\n",
       "      <td>0.000000</td>\n",
       "      <td>0.24</td>\n",
       "      <td>1</td>\n",
       "    </tr>\n",
       "    <tr>\n",
       "      <th>1</th>\n",
       "      <td>CH</td>\n",
       "      <td>239</td>\n",
       "      <td>1</td>\n",
       "      <td>1.75</td>\n",
       "      <td>1.99</td>\n",
       "      <td>0.00</td>\n",
       "      <td>0.3</td>\n",
       "      <td>0</td>\n",
       "      <td>1</td>\n",
       "      <td>0.600000</td>\n",
       "      <td>1.69</td>\n",
       "      <td>1.75</td>\n",
       "      <td>-0.06</td>\n",
       "      <td>No</td>\n",
       "      <td>0.150754</td>\n",
       "      <td>0.000000</td>\n",
       "      <td>0.24</td>\n",
       "      <td>1</td>\n",
       "    </tr>\n",
       "    <tr>\n",
       "      <th>2</th>\n",
       "      <td>CH</td>\n",
       "      <td>245</td>\n",
       "      <td>1</td>\n",
       "      <td>1.86</td>\n",
       "      <td>2.09</td>\n",
       "      <td>0.17</td>\n",
       "      <td>0.0</td>\n",
       "      <td>0</td>\n",
       "      <td>0</td>\n",
       "      <td>0.680000</td>\n",
       "      <td>2.09</td>\n",
       "      <td>1.69</td>\n",
       "      <td>0.40</td>\n",
       "      <td>No</td>\n",
       "      <td>0.000000</td>\n",
       "      <td>0.091398</td>\n",
       "      <td>0.23</td>\n",
       "      <td>1</td>\n",
       "    </tr>\n",
       "    <tr>\n",
       "      <th>3</th>\n",
       "      <td>MM</td>\n",
       "      <td>227</td>\n",
       "      <td>1</td>\n",
       "      <td>1.69</td>\n",
       "      <td>1.69</td>\n",
       "      <td>0.00</td>\n",
       "      <td>0.0</td>\n",
       "      <td>0</td>\n",
       "      <td>0</td>\n",
       "      <td>0.400000</td>\n",
       "      <td>1.69</td>\n",
       "      <td>1.69</td>\n",
       "      <td>0.00</td>\n",
       "      <td>No</td>\n",
       "      <td>0.000000</td>\n",
       "      <td>0.000000</td>\n",
       "      <td>0.00</td>\n",
       "      <td>1</td>\n",
       "    </tr>\n",
       "    <tr>\n",
       "      <th>4</th>\n",
       "      <td>CH</td>\n",
       "      <td>228</td>\n",
       "      <td>7</td>\n",
       "      <td>1.69</td>\n",
       "      <td>1.69</td>\n",
       "      <td>0.00</td>\n",
       "      <td>0.0</td>\n",
       "      <td>0</td>\n",
       "      <td>0</td>\n",
       "      <td>0.956535</td>\n",
       "      <td>1.69</td>\n",
       "      <td>1.69</td>\n",
       "      <td>0.00</td>\n",
       "      <td>Yes</td>\n",
       "      <td>0.000000</td>\n",
       "      <td>0.000000</td>\n",
       "      <td>0.00</td>\n",
       "      <td>0</td>\n",
       "    </tr>\n",
       "  </tbody>\n",
       "</table>\n",
       "</div>"
      ],
      "text/plain": [
       "  Purchase  WeekofPurchase  StoreID  PriceCH  PriceMM  DiscCH  DiscMM  \\\n",
       "0       CH             237        1     1.75     1.99    0.00     0.0   \n",
       "1       CH             239        1     1.75     1.99    0.00     0.3   \n",
       "2       CH             245        1     1.86     2.09    0.17     0.0   \n",
       "3       MM             227        1     1.69     1.69    0.00     0.0   \n",
       "4       CH             228        7     1.69     1.69    0.00     0.0   \n",
       "\n",
       "   SpecialCH  SpecialMM   LoyalCH  SalePriceMM  SalePriceCH  PriceDiff Store7  \\\n",
       "0          0          0  0.500000         1.99         1.75       0.24     No   \n",
       "1          0          1  0.600000         1.69         1.75      -0.06     No   \n",
       "2          0          0  0.680000         2.09         1.69       0.40     No   \n",
       "3          0          0  0.400000         1.69         1.69       0.00     No   \n",
       "4          0          0  0.956535         1.69         1.69       0.00    Yes   \n",
       "\n",
       "   PctDiscMM  PctDiscCH  ListPriceDiff  STORE  \n",
       "0   0.000000   0.000000           0.24      1  \n",
       "1   0.150754   0.000000           0.24      1  \n",
       "2   0.000000   0.091398           0.23      1  \n",
       "3   0.000000   0.000000           0.00      1  \n",
       "4   0.000000   0.000000           0.00      0  "
      ]
     },
     "execution_count": 7,
     "metadata": {},
     "output_type": "execute_result"
    }
   ],
   "source": [
    "OJ.head()"
   ]
  },
  {
   "cell_type": "code",
   "execution_count": 8,
   "id": "52b2eddb",
   "metadata": {},
   "outputs": [
    {
     "name": "stdout",
     "output_type": "stream",
     "text": [
      "(1070, 18)\n"
     ]
    }
   ],
   "source": [
    "print(OJ.shape)"
   ]
  },
  {
   "cell_type": "code",
   "execution_count": 17,
   "id": "3da711f4",
   "metadata": {},
   "outputs": [
    {
     "data": {
      "text/plain": [
       "0     0\n",
       "1     0\n",
       "2     0\n",
       "3     0\n",
       "4     0\n",
       "5     0\n",
       "6     0\n",
       "7     0\n",
       "8     0\n",
       "9     0\n",
       "10    0\n",
       "11    0\n",
       "12    0\n",
       "13    0\n",
       "14    0\n",
       "15    0\n",
       "16    0\n",
       "17    0\n",
       "dtype: int64"
      ]
     },
     "execution_count": 17,
     "metadata": {},
     "output_type": "execute_result"
    }
   ],
   "source": [
    "X_traindf.isna().sum()"
   ]
  },
  {
   "cell_type": "markdown",
   "id": "4ebb7dcd",
   "metadata": {},
   "source": [
    "(a) Create a training set containing a random sample of 800 observations, and a test set containing the remaining observations.\n",
    "\n",
    "\n",
    "Your code:"
   ]
  },
  {
   "cell_type": "code",
   "execution_count": 44,
   "id": "77571a47",
   "metadata": {
    "Rmd_chunk_options": "echo=TRUE",
    "kernel": "Python3",
    "tags": [
     "report_cell"
    ]
   },
   "outputs": [],
   "source": [
    "from sklearn.preprocessing import StandardScaler\n",
    "\n",
    "train_id = np.random.randint(0, OJ.shape[1], 800)\n",
    "traindf = OJ.iloc[train_id]\n",
    "testdf = OJ.drop(train_id)\n",
    "\n",
    "X_train = traindf.drop(['Purchase', 'StoreID'], axis=1)\n",
    "Y_train = traindf['Purchase']\n",
    "X_test = testdf.drop(['Purchase', 'StoreID'], axis=1)\n",
    "Y_test = testdf['Purchase']\n",
    "\n",
    "X_trainNum = X_train.drop('Store7', axis = 1)\n",
    "X_testNum = X_test.drop('Store7', axis = 1)\n",
    "\n",
    "# Scale the numerical columns\n",
    "scaler = StandardScaler()\n",
    "X_trainNumScaled = pd.DataFrame(scaler.fit_transform(X_trainNum), columns=X_trainNum.columns).reset_index(drop = True)\n",
    "X_testNumScaled = pd.DataFrame(scaler.transform(X_testNum), columns=X_testNum.columns).reset_index(drop = True)\n",
    "\n",
    "# get dummy of the Store7 column\n",
    "X_trainStore7 = pd.get_dummies(X_train['Store7'], drop_first=True, prefix='Store7').reset_index(drop = True)\n",
    "X_testStore7 = pd.get_dummies(X_test['Store7'], drop_first=True, prefix='Store7').reset_index(drop = True)\n",
    "\n",
    "# Concatenate the scaled numerical columns and the dummy columns\n",
    "X_traindf = pd.concat([X_trainNumScaled, X_trainStore7], axis=1)\n",
    "X_testdf = pd.concat([X_testNumScaled, X_testStore7], axis=1)"
   ]
  },
  {
   "cell_type": "markdown",
   "id": "eb64eef1",
   "metadata": {},
   "source": [
    "Your answer:\n",
    "\n",
    "~~~\n",
    "Please write your answer in full sentences.\n",
    "\n",
    "\n",
    "~~~\n",
    "\n",
    "(b) Fit a support vector classifier to the training data using\n",
    "`C = 0.01`, with `Purchase` as the response and the other variables\n",
    "as predictors. How many support points are there?\n",
    "\n",
    "Your code:"
   ]
  },
  {
   "cell_type": "code",
   "execution_count": 45,
   "id": "df2a553e",
   "metadata": {},
   "outputs": [],
   "source": [
    "X_traindf = X_traindf.replace([np.inf, -np.inf], np.nan)\n",
    "X_trainNAindex = X_traindf.index[X_traindf.isna().any(axis=1)]\n",
    "X_traindf = X_traindf.dropna(how=\"any\")\n",
    "\n",
    "X_testdf = X_testdf.replace([np.inf, -np.inf], np.nan)\n",
    "X_testNAindex = X_testdf.index[X_testdf.isna().any(axis=1)]\n",
    "X_testdf = X_testdf.dropna(how=\"any\")\n",
    "\n",
    "Y_train = Y_train.drop(X_trainNAindex)\n",
    "Y_test = Y_test.drop(X_testNAindex)"
   ]
  },
  {
   "cell_type": "code",
   "execution_count": 47,
   "id": "76e280ab",
   "metadata": {
    "Rmd_chunk_options": "echo=TRUE",
    "kernel": "Python3",
    "tags": [
     "report_cell"
    ]
   },
   "outputs": [
    {
     "name": "stdout",
     "output_type": "stream",
     "text": [
      "0.314638783269962\n"
     ]
    }
   ],
   "source": [
    "from sklearn.svm import SVC\n",
    "from sklearn.metrics import accuracy_score\n",
    "\n",
    "OJSVM = SVC(kernel = 'linear', C=0.01)\n",
    "OJSVM.fit(X_traindf, Y_train)\n",
    "\n",
    "y_pred = OJSVM.predict(X_testdf)\n",
    "\n"
   ]
  },
  {
   "cell_type": "markdown",
   "id": "1578d340",
   "metadata": {},
   "source": [
    "Your answer:\n",
    "\n",
    "~~~\n",
    "Please write your answer in full sentences.\n",
    "\n",
    "\n",
    "~~~\n",
    "\n",
    "(c) What are the training and test error rates?\n",
    "\n",
    "\n",
    "Your code:"
   ]
  },
  {
   "cell_type": "code",
   "execution_count": 48,
   "id": "80c55941",
   "metadata": {
    "Rmd_chunk_options": "echo=TRUE",
    "kernel": "Python3",
    "tags": [
     "report_cell"
    ]
   },
   "outputs": [
    {
     "name": "stdout",
     "output_type": "stream",
     "text": [
      "0.0\n",
      "0.314638783269962\n"
     ]
    }
   ],
   "source": [
    "# training error\n",
    "print(1 - accuracy_score(Y_train, OJSVM.predict(X_traindf)))\n",
    "\n",
    "#testing error\n",
    "print(1 - accuracy_score(Y_test, y_pred))"
   ]
  },
  {
   "cell_type": "markdown",
   "id": "064ddc36",
   "metadata": {},
   "source": [
    "Your answer:\n",
    "\n",
    "~~~\n",
    "Please write your answer in full sentences.\n",
    "\n",
    "Looks like it is an overfitting.\n",
    "\n",
    "~~~\n",
    "\n",
    "(d) Use cross-validation to select an optimal `C`. Consider values in the range 0.01 to 10.\n",
    "\n",
    "Your code:"
   ]
  },
  {
   "cell_type": "code",
   "execution_count": 50,
   "id": "decfc682",
   "metadata": {
    "Rmd_chunk_options": "echo=TRUE",
    "kernel": "Python3",
    "tags": [
     "report_cell"
    ]
   },
   "outputs": [
    {
     "name": "stdout",
     "output_type": "stream",
     "text": [
      "Best C: 1\n"
     ]
    },
    {
     "data": {
      "text/html": [
       "<style>#sk-container-id-1 {\n",
       "  /* Definition of color scheme common for light and dark mode */\n",
       "  --sklearn-color-text: black;\n",
       "  --sklearn-color-line: gray;\n",
       "  /* Definition of color scheme for unfitted estimators */\n",
       "  --sklearn-color-unfitted-level-0: #fff5e6;\n",
       "  --sklearn-color-unfitted-level-1: #f6e4d2;\n",
       "  --sklearn-color-unfitted-level-2: #ffe0b3;\n",
       "  --sklearn-color-unfitted-level-3: chocolate;\n",
       "  /* Definition of color scheme for fitted estimators */\n",
       "  --sklearn-color-fitted-level-0: #f0f8ff;\n",
       "  --sklearn-color-fitted-level-1: #d4ebff;\n",
       "  --sklearn-color-fitted-level-2: #b3dbfd;\n",
       "  --sklearn-color-fitted-level-3: cornflowerblue;\n",
       "\n",
       "  /* Specific color for light theme */\n",
       "  --sklearn-color-text-on-default-background: var(--sg-text-color, var(--theme-code-foreground, var(--jp-content-font-color1, black)));\n",
       "  --sklearn-color-background: var(--sg-background-color, var(--theme-background, var(--jp-layout-color0, white)));\n",
       "  --sklearn-color-border-box: var(--sg-text-color, var(--theme-code-foreground, var(--jp-content-font-color1, black)));\n",
       "  --sklearn-color-icon: #696969;\n",
       "\n",
       "  @media (prefers-color-scheme: dark) {\n",
       "    /* Redefinition of color scheme for dark theme */\n",
       "    --sklearn-color-text-on-default-background: var(--sg-text-color, var(--theme-code-foreground, var(--jp-content-font-color1, white)));\n",
       "    --sklearn-color-background: var(--sg-background-color, var(--theme-background, var(--jp-layout-color0, #111)));\n",
       "    --sklearn-color-border-box: var(--sg-text-color, var(--theme-code-foreground, var(--jp-content-font-color1, white)));\n",
       "    --sklearn-color-icon: #878787;\n",
       "  }\n",
       "}\n",
       "\n",
       "#sk-container-id-1 {\n",
       "  color: var(--sklearn-color-text);\n",
       "}\n",
       "\n",
       "#sk-container-id-1 pre {\n",
       "  padding: 0;\n",
       "}\n",
       "\n",
       "#sk-container-id-1 input.sk-hidden--visually {\n",
       "  border: 0;\n",
       "  clip: rect(1px 1px 1px 1px);\n",
       "  clip: rect(1px, 1px, 1px, 1px);\n",
       "  height: 1px;\n",
       "  margin: -1px;\n",
       "  overflow: hidden;\n",
       "  padding: 0;\n",
       "  position: absolute;\n",
       "  width: 1px;\n",
       "}\n",
       "\n",
       "#sk-container-id-1 div.sk-dashed-wrapped {\n",
       "  border: 1px dashed var(--sklearn-color-line);\n",
       "  margin: 0 0.4em 0.5em 0.4em;\n",
       "  box-sizing: border-box;\n",
       "  padding-bottom: 0.4em;\n",
       "  background-color: var(--sklearn-color-background);\n",
       "}\n",
       "\n",
       "#sk-container-id-1 div.sk-container {\n",
       "  /* jupyter's `normalize.less` sets `[hidden] { display: none; }`\n",
       "     but bootstrap.min.css set `[hidden] { display: none !important; }`\n",
       "     so we also need the `!important` here to be able to override the\n",
       "     default hidden behavior on the sphinx rendered scikit-learn.org.\n",
       "     See: https://github.com/scikit-learn/scikit-learn/issues/21755 */\n",
       "  display: inline-block !important;\n",
       "  position: relative;\n",
       "}\n",
       "\n",
       "#sk-container-id-1 div.sk-text-repr-fallback {\n",
       "  display: none;\n",
       "}\n",
       "\n",
       "div.sk-parallel-item,\n",
       "div.sk-serial,\n",
       "div.sk-item {\n",
       "  /* draw centered vertical line to link estimators */\n",
       "  background-image: linear-gradient(var(--sklearn-color-text-on-default-background), var(--sklearn-color-text-on-default-background));\n",
       "  background-size: 2px 100%;\n",
       "  background-repeat: no-repeat;\n",
       "  background-position: center center;\n",
       "}\n",
       "\n",
       "/* Parallel-specific style estimator block */\n",
       "\n",
       "#sk-container-id-1 div.sk-parallel-item::after {\n",
       "  content: \"\";\n",
       "  width: 100%;\n",
       "  border-bottom: 2px solid var(--sklearn-color-text-on-default-background);\n",
       "  flex-grow: 1;\n",
       "}\n",
       "\n",
       "#sk-container-id-1 div.sk-parallel {\n",
       "  display: flex;\n",
       "  align-items: stretch;\n",
       "  justify-content: center;\n",
       "  background-color: var(--sklearn-color-background);\n",
       "  position: relative;\n",
       "}\n",
       "\n",
       "#sk-container-id-1 div.sk-parallel-item {\n",
       "  display: flex;\n",
       "  flex-direction: column;\n",
       "}\n",
       "\n",
       "#sk-container-id-1 div.sk-parallel-item:first-child::after {\n",
       "  align-self: flex-end;\n",
       "  width: 50%;\n",
       "}\n",
       "\n",
       "#sk-container-id-1 div.sk-parallel-item:last-child::after {\n",
       "  align-self: flex-start;\n",
       "  width: 50%;\n",
       "}\n",
       "\n",
       "#sk-container-id-1 div.sk-parallel-item:only-child::after {\n",
       "  width: 0;\n",
       "}\n",
       "\n",
       "/* Serial-specific style estimator block */\n",
       "\n",
       "#sk-container-id-1 div.sk-serial {\n",
       "  display: flex;\n",
       "  flex-direction: column;\n",
       "  align-items: center;\n",
       "  background-color: var(--sklearn-color-background);\n",
       "  padding-right: 1em;\n",
       "  padding-left: 1em;\n",
       "}\n",
       "\n",
       "\n",
       "/* Toggleable style: style used for estimator/Pipeline/ColumnTransformer box that is\n",
       "clickable and can be expanded/collapsed.\n",
       "- Pipeline and ColumnTransformer use this feature and define the default style\n",
       "- Estimators will overwrite some part of the style using the `sk-estimator` class\n",
       "*/\n",
       "\n",
       "/* Pipeline and ColumnTransformer style (default) */\n",
       "\n",
       "#sk-container-id-1 div.sk-toggleable {\n",
       "  /* Default theme specific background. It is overwritten whether we have a\n",
       "  specific estimator or a Pipeline/ColumnTransformer */\n",
       "  background-color: var(--sklearn-color-background);\n",
       "}\n",
       "\n",
       "/* Toggleable label */\n",
       "#sk-container-id-1 label.sk-toggleable__label {\n",
       "  cursor: pointer;\n",
       "  display: block;\n",
       "  width: 100%;\n",
       "  margin-bottom: 0;\n",
       "  padding: 0.5em;\n",
       "  box-sizing: border-box;\n",
       "  text-align: center;\n",
       "}\n",
       "\n",
       "#sk-container-id-1 label.sk-toggleable__label-arrow:before {\n",
       "  /* Arrow on the left of the label */\n",
       "  content: \"▸\";\n",
       "  float: left;\n",
       "  margin-right: 0.25em;\n",
       "  color: var(--sklearn-color-icon);\n",
       "}\n",
       "\n",
       "#sk-container-id-1 label.sk-toggleable__label-arrow:hover:before {\n",
       "  color: var(--sklearn-color-text);\n",
       "}\n",
       "\n",
       "/* Toggleable content - dropdown */\n",
       "\n",
       "#sk-container-id-1 div.sk-toggleable__content {\n",
       "  max-height: 0;\n",
       "  max-width: 0;\n",
       "  overflow: hidden;\n",
       "  text-align: left;\n",
       "  /* unfitted */\n",
       "  background-color: var(--sklearn-color-unfitted-level-0);\n",
       "}\n",
       "\n",
       "#sk-container-id-1 div.sk-toggleable__content.fitted {\n",
       "  /* fitted */\n",
       "  background-color: var(--sklearn-color-fitted-level-0);\n",
       "}\n",
       "\n",
       "#sk-container-id-1 div.sk-toggleable__content pre {\n",
       "  margin: 0.2em;\n",
       "  border-radius: 0.25em;\n",
       "  color: var(--sklearn-color-text);\n",
       "  /* unfitted */\n",
       "  background-color: var(--sklearn-color-unfitted-level-0);\n",
       "}\n",
       "\n",
       "#sk-container-id-1 div.sk-toggleable__content.fitted pre {\n",
       "  /* unfitted */\n",
       "  background-color: var(--sklearn-color-fitted-level-0);\n",
       "}\n",
       "\n",
       "#sk-container-id-1 input.sk-toggleable__control:checked~div.sk-toggleable__content {\n",
       "  /* Expand drop-down */\n",
       "  max-height: 200px;\n",
       "  max-width: 100%;\n",
       "  overflow: auto;\n",
       "}\n",
       "\n",
       "#sk-container-id-1 input.sk-toggleable__control:checked~label.sk-toggleable__label-arrow:before {\n",
       "  content: \"▾\";\n",
       "}\n",
       "\n",
       "/* Pipeline/ColumnTransformer-specific style */\n",
       "\n",
       "#sk-container-id-1 div.sk-label input.sk-toggleable__control:checked~label.sk-toggleable__label {\n",
       "  color: var(--sklearn-color-text);\n",
       "  background-color: var(--sklearn-color-unfitted-level-2);\n",
       "}\n",
       "\n",
       "#sk-container-id-1 div.sk-label.fitted input.sk-toggleable__control:checked~label.sk-toggleable__label {\n",
       "  background-color: var(--sklearn-color-fitted-level-2);\n",
       "}\n",
       "\n",
       "/* Estimator-specific style */\n",
       "\n",
       "/* Colorize estimator box */\n",
       "#sk-container-id-1 div.sk-estimator input.sk-toggleable__control:checked~label.sk-toggleable__label {\n",
       "  /* unfitted */\n",
       "  background-color: var(--sklearn-color-unfitted-level-2);\n",
       "}\n",
       "\n",
       "#sk-container-id-1 div.sk-estimator.fitted input.sk-toggleable__control:checked~label.sk-toggleable__label {\n",
       "  /* fitted */\n",
       "  background-color: var(--sklearn-color-fitted-level-2);\n",
       "}\n",
       "\n",
       "#sk-container-id-1 div.sk-label label.sk-toggleable__label,\n",
       "#sk-container-id-1 div.sk-label label {\n",
       "  /* The background is the default theme color */\n",
       "  color: var(--sklearn-color-text-on-default-background);\n",
       "}\n",
       "\n",
       "/* On hover, darken the color of the background */\n",
       "#sk-container-id-1 div.sk-label:hover label.sk-toggleable__label {\n",
       "  color: var(--sklearn-color-text);\n",
       "  background-color: var(--sklearn-color-unfitted-level-2);\n",
       "}\n",
       "\n",
       "/* Label box, darken color on hover, fitted */\n",
       "#sk-container-id-1 div.sk-label.fitted:hover label.sk-toggleable__label.fitted {\n",
       "  color: var(--sklearn-color-text);\n",
       "  background-color: var(--sklearn-color-fitted-level-2);\n",
       "}\n",
       "\n",
       "/* Estimator label */\n",
       "\n",
       "#sk-container-id-1 div.sk-label label {\n",
       "  font-family: monospace;\n",
       "  font-weight: bold;\n",
       "  display: inline-block;\n",
       "  line-height: 1.2em;\n",
       "}\n",
       "\n",
       "#sk-container-id-1 div.sk-label-container {\n",
       "  text-align: center;\n",
       "}\n",
       "\n",
       "/* Estimator-specific */\n",
       "#sk-container-id-1 div.sk-estimator {\n",
       "  font-family: monospace;\n",
       "  border: 1px dotted var(--sklearn-color-border-box);\n",
       "  border-radius: 0.25em;\n",
       "  box-sizing: border-box;\n",
       "  margin-bottom: 0.5em;\n",
       "  /* unfitted */\n",
       "  background-color: var(--sklearn-color-unfitted-level-0);\n",
       "}\n",
       "\n",
       "#sk-container-id-1 div.sk-estimator.fitted {\n",
       "  /* fitted */\n",
       "  background-color: var(--sklearn-color-fitted-level-0);\n",
       "}\n",
       "\n",
       "/* on hover */\n",
       "#sk-container-id-1 div.sk-estimator:hover {\n",
       "  /* unfitted */\n",
       "  background-color: var(--sklearn-color-unfitted-level-2);\n",
       "}\n",
       "\n",
       "#sk-container-id-1 div.sk-estimator.fitted:hover {\n",
       "  /* fitted */\n",
       "  background-color: var(--sklearn-color-fitted-level-2);\n",
       "}\n",
       "\n",
       "/* Specification for estimator info (e.g. \"i\" and \"?\") */\n",
       "\n",
       "/* Common style for \"i\" and \"?\" */\n",
       "\n",
       ".sk-estimator-doc-link,\n",
       "a:link.sk-estimator-doc-link,\n",
       "a:visited.sk-estimator-doc-link {\n",
       "  float: right;\n",
       "  font-size: smaller;\n",
       "  line-height: 1em;\n",
       "  font-family: monospace;\n",
       "  background-color: var(--sklearn-color-background);\n",
       "  border-radius: 1em;\n",
       "  height: 1em;\n",
       "  width: 1em;\n",
       "  text-decoration: none !important;\n",
       "  margin-left: 1ex;\n",
       "  /* unfitted */\n",
       "  border: var(--sklearn-color-unfitted-level-1) 1pt solid;\n",
       "  color: var(--sklearn-color-unfitted-level-1);\n",
       "}\n",
       "\n",
       ".sk-estimator-doc-link.fitted,\n",
       "a:link.sk-estimator-doc-link.fitted,\n",
       "a:visited.sk-estimator-doc-link.fitted {\n",
       "  /* fitted */\n",
       "  border: var(--sklearn-color-fitted-level-1) 1pt solid;\n",
       "  color: var(--sklearn-color-fitted-level-1);\n",
       "}\n",
       "\n",
       "/* On hover */\n",
       "div.sk-estimator:hover .sk-estimator-doc-link:hover,\n",
       ".sk-estimator-doc-link:hover,\n",
       "div.sk-label-container:hover .sk-estimator-doc-link:hover,\n",
       ".sk-estimator-doc-link:hover {\n",
       "  /* unfitted */\n",
       "  background-color: var(--sklearn-color-unfitted-level-3);\n",
       "  color: var(--sklearn-color-background);\n",
       "  text-decoration: none;\n",
       "}\n",
       "\n",
       "div.sk-estimator.fitted:hover .sk-estimator-doc-link.fitted:hover,\n",
       ".sk-estimator-doc-link.fitted:hover,\n",
       "div.sk-label-container:hover .sk-estimator-doc-link.fitted:hover,\n",
       ".sk-estimator-doc-link.fitted:hover {\n",
       "  /* fitted */\n",
       "  background-color: var(--sklearn-color-fitted-level-3);\n",
       "  color: var(--sklearn-color-background);\n",
       "  text-decoration: none;\n",
       "}\n",
       "\n",
       "/* Span, style for the box shown on hovering the info icon */\n",
       ".sk-estimator-doc-link span {\n",
       "  display: none;\n",
       "  z-index: 9999;\n",
       "  position: relative;\n",
       "  font-weight: normal;\n",
       "  right: .2ex;\n",
       "  padding: .5ex;\n",
       "  margin: .5ex;\n",
       "  width: min-content;\n",
       "  min-width: 20ex;\n",
       "  max-width: 50ex;\n",
       "  color: var(--sklearn-color-text);\n",
       "  box-shadow: 2pt 2pt 4pt #999;\n",
       "  /* unfitted */\n",
       "  background: var(--sklearn-color-unfitted-level-0);\n",
       "  border: .5pt solid var(--sklearn-color-unfitted-level-3);\n",
       "}\n",
       "\n",
       ".sk-estimator-doc-link.fitted span {\n",
       "  /* fitted */\n",
       "  background: var(--sklearn-color-fitted-level-0);\n",
       "  border: var(--sklearn-color-fitted-level-3);\n",
       "}\n",
       "\n",
       ".sk-estimator-doc-link:hover span {\n",
       "  display: block;\n",
       "}\n",
       "\n",
       "/* \"?\"-specific style due to the `<a>` HTML tag */\n",
       "\n",
       "#sk-container-id-1 a.estimator_doc_link {\n",
       "  float: right;\n",
       "  font-size: 1rem;\n",
       "  line-height: 1em;\n",
       "  font-family: monospace;\n",
       "  background-color: var(--sklearn-color-background);\n",
       "  border-radius: 1rem;\n",
       "  height: 1rem;\n",
       "  width: 1rem;\n",
       "  text-decoration: none;\n",
       "  /* unfitted */\n",
       "  color: var(--sklearn-color-unfitted-level-1);\n",
       "  border: var(--sklearn-color-unfitted-level-1) 1pt solid;\n",
       "}\n",
       "\n",
       "#sk-container-id-1 a.estimator_doc_link.fitted {\n",
       "  /* fitted */\n",
       "  border: var(--sklearn-color-fitted-level-1) 1pt solid;\n",
       "  color: var(--sklearn-color-fitted-level-1);\n",
       "}\n",
       "\n",
       "/* On hover */\n",
       "#sk-container-id-1 a.estimator_doc_link:hover {\n",
       "  /* unfitted */\n",
       "  background-color: var(--sklearn-color-unfitted-level-3);\n",
       "  color: var(--sklearn-color-background);\n",
       "  text-decoration: none;\n",
       "}\n",
       "\n",
       "#sk-container-id-1 a.estimator_doc_link.fitted:hover {\n",
       "  /* fitted */\n",
       "  background-color: var(--sklearn-color-fitted-level-3);\n",
       "}\n",
       "</style><div id=\"sk-container-id-1\" class=\"sk-top-container\"><div class=\"sk-text-repr-fallback\"><pre>SVC(C=1, kernel=&#x27;linear&#x27;)</pre><b>In a Jupyter environment, please rerun this cell to show the HTML representation or trust the notebook. <br />On GitHub, the HTML representation is unable to render, please try loading this page with nbviewer.org.</b></div><div class=\"sk-container\" hidden><div class=\"sk-item\"><div class=\"sk-estimator fitted sk-toggleable\"><input class=\"sk-toggleable__control sk-hidden--visually\" id=\"sk-estimator-id-1\" type=\"checkbox\" checked><label for=\"sk-estimator-id-1\" class=\"sk-toggleable__label fitted sk-toggleable__label-arrow fitted\">&nbsp;&nbsp;SVC<a class=\"sk-estimator-doc-link fitted\" rel=\"noreferrer\" target=\"_blank\" href=\"https://scikit-learn.org/1.4/modules/generated/sklearn.svm.SVC.html\">?<span>Documentation for SVC</span></a><span class=\"sk-estimator-doc-link fitted\">i<span>Fitted</span></span></label><div class=\"sk-toggleable__content fitted\"><pre>SVC(C=1, kernel=&#x27;linear&#x27;)</pre></div> </div></div></div></div>"
      ],
      "text/plain": [
       "SVC(C=1, kernel='linear')"
      ]
     },
     "execution_count": 50,
     "metadata": {},
     "output_type": "execute_result"
    }
   ],
   "source": [
    "from sklearn.model_selection import GridSearchCV\n",
    "param_grid = {'C': [0.01, 0.1, 1, 10]}\n",
    "\n",
    "OJSVM = SVC(kernel='linear')\n",
    "\n",
    "\n",
    "grid_search = GridSearchCV(OJSVM, param_grid, cv=5)  \n",
    "\n",
    "grid_search.fit(X_traindf, Y_train)\n",
    "\n",
    "best_C = grid_search.best_params_['C']\n",
    "print(\"Best C:\", best_C)\n",
    "\n",
    "OJSVM_best = SVC(kernel='linear', C=best_C)\n",
    "OJSVM_best.fit(X_traindf, Y_train)"
   ]
  },
  {
   "cell_type": "markdown",
   "id": "d3c7c6cb",
   "metadata": {},
   "source": [
    "Your answer:\n",
    "\n",
    "~~~\n",
    "Please write your answer in full sentences.\n",
    "\n",
    "\n",
    "~~~\n",
    "\n",
    "(e) Compute the training and test error rates using this new value for C.\n",
    "\n",
    "Your code:"
   ]
  },
  {
   "cell_type": "code",
   "execution_count": 51,
   "id": "0982a0cd",
   "metadata": {
    "Rmd_chunk_options": "echo=TRUE",
    "kernel": "Python3",
    "tags": [
     "report_cell"
    ]
   },
   "outputs": [
    {
     "name": "stdout",
     "output_type": "stream",
     "text": [
      "Training Error Rate: 0.0\n",
      "Test Error Rate: 0.18726235741444863\n"
     ]
    }
   ],
   "source": [
    "# Assuming X_testdf and Y_test are your test data and labels\n",
    "\n",
    "# Compute training error rate\n",
    "train_score = OJSVM_best.score(X_traindf, Y_train)\n",
    "train_error_rate = 1 - train_score\n",
    "\n",
    "test_score = OJSVM_best.score(X_testdf, Y_test)\n",
    "test_error_rate = 1 - test_score\n",
    "\n",
    "print(\"Training Error Rate:\", train_error_rate)\n",
    "print(\"Test Error Rate:\", test_error_rate)"
   ]
  },
  {
   "cell_type": "markdown",
   "id": "1def65cc",
   "metadata": {},
   "source": [
    "Your answer:\n",
    "\n",
    "~~~\n",
    "Please write your answer in full sentences.\n",
    "\n",
    "\n",
    "~~~\n",
    "\n",
    "(f) Repeat parts (b) through (e) using a support vector machine with a radial kernel. Use the default value for gamma.\n",
    "\n",
    "\n",
    "Your code:"
   ]
  },
  {
   "cell_type": "code",
   "execution_count": 54,
   "id": "85adbd21",
   "metadata": {
    "Rmd_chunk_options": "echo=TRUE",
    "kernel": "Python3",
    "tags": [
     "report_cell"
    ]
   },
   "outputs": [
    {
     "name": "stdout",
     "output_type": "stream",
     "text": [
      "Best C: 10\n",
      "Training Error Rate: 0.0\n",
      "Test Error Rate: 0.18441064638783267\n"
     ]
    }
   ],
   "source": [
    "OJSVM_radial = SVC(kernel='rbf')\n",
    "\n",
    "grid_search_radial = GridSearchCV(OJSVM_radial, param_grid, cv=5)  # cv=5 for 5-fold cross-validation\n",
    "grid_search_radial.fit(X_traindf, Y_train)\n",
    "\n",
    "best_C = grid_search_radial.best_params_['C']\n",
    "print(\"Best C:\", best_C)\n",
    "\n",
    "OJSVM_radial_best = SVC(kernel='rbf', C=best_C)\n",
    "OJSVM_radial_best.fit(X_traindf, Y_train)\n",
    "\n",
    "rbf_train_score = OJSVM_radial_best.score(X_traindf, Y_train)\n",
    "rbf_train_error_rate = 1 - rbf_train_score\n",
    "\n",
    "rbf_test_score = OJSVM_radial_best.score(X_testdf, Y_test)\n",
    "rbf_test_error_rate = 1 - rbf_test_score\n",
    "\n",
    "print(\"Training Error Rate:\", rbf_train_error_rate)\n",
    "print(\"Test Error Rate:\", rbf_test_error_rate)"
   ]
  },
  {
   "cell_type": "markdown",
   "id": "ea9639a6",
   "metadata": {},
   "source": [
    "Your answer:\n",
    "\n",
    "~~~\n",
    "Please write your answer in full sentences.\n",
    "\n",
    "\n",
    "~~~\n",
    "\n",
    "(g) Repeat parts (b) through (e) using a support vector machine with a polynomial kernel. Set `degree = 2`.\n",
    "\n",
    "Your code:"
   ]
  },
  {
   "cell_type": "code",
   "execution_count": 55,
   "id": "fc7e9a83",
   "metadata": {
    "Rmd_chunk_options": "echo=TRUE",
    "kernel": "Python3",
    "tags": [
     "report_cell"
    ]
   },
   "outputs": [
    {
     "name": "stdout",
     "output_type": "stream",
     "text": [
      "Best C: 10\n",
      "Training Error Rate: 0.0\n",
      "Test Error Rate: 0.2072243346007605\n"
     ]
    }
   ],
   "source": [
    "from sklearn.model_selection import GridSearchCV\n",
    "from sklearn.svm import SVC\n",
    "\n",
    "OJSVM_poly = SVC(kernel='poly', degree=2)\n",
    "grid_search_poly = GridSearchCV(OJSVM_poly, param_grid, cv=5)  # cv=5 for 5-fold cross-validation\n",
    "grid_search_poly.fit(X_traindf, Y_train)\n",
    "\n",
    "best_C = grid_search_poly.best_params_['C']\n",
    "print(\"Best C:\", best_C)\n",
    "\n",
    "OJSVM_poly_best = SVC(kernel='poly', degree=2, C=best_C)\n",
    "OJSVM_poly_best.fit(X_traindf, Y_train)\n",
    "\n",
    "poly_train_score = OJSVM_poly_best.score(X_traindf, Y_train)\n",
    "poly_train_error_rate = 1 - poly_train_score\n",
    "\n",
    "poly_test_score = OJSVM_poly_best.score(X_testdf, Y_test)\n",
    "poly_test_error_rate = 1 - poly_test_score\n",
    "\n",
    "print(\"Training Error Rate:\", poly_train_error_rate)\n",
    "print(\"Test Error Rate:\", poly_test_error_rate)"
   ]
  },
  {
   "cell_type": "markdown",
   "id": "bedfea56",
   "metadata": {},
   "source": [
    "Your answer:\n",
    "\n",
    "~~~\n",
    "Please write your answer in full sentences.\n",
    "\n",
    "\n",
    "~~~\n",
    "\n",
    "(h) Overall, which approach seems to give the best results on this data?\n",
    "\n",
    "Your code:"
   ]
  },
  {
   "cell_type": "code",
   "execution_count": 56,
   "id": "9f998807",
   "metadata": {
    "Rmd_chunk_options": "echo=TRUE",
    "kernel": "Python3",
    "tags": [
     "report_cell"
    ]
   },
   "outputs": [
    {
     "name": "stdout",
     "output_type": "stream",
     "text": [
      "linear kernel\n",
      "Training Error Rate: 0.0\n",
      "Test Error Rate: 0.18726235741444863\n",
      "RBF kernel\n",
      "Training Error Rate: 0.0\n",
      "Test Error Rate: 0.18441064638783267\n",
      "Polynomial kernel\n",
      "Training Error Rate: 0.0\n",
      "Test Error Rate: 0.2072243346007605\n"
     ]
    }
   ],
   "source": [
    "print('linear kernel')\n",
    "print(\"Training Error Rate:\", train_error_rate)\n",
    "print(\"Test Error Rate:\", test_error_rate)\n",
    "\n",
    "print('RBF kernel')\n",
    "print(\"Training Error Rate:\", rbf_train_error_rate)\n",
    "print(\"Test Error Rate:\", rbf_test_error_rate)\n",
    "\n",
    "print('Polynomial kernel') \n",
    "print(\"Training Error Rate:\", poly_train_error_rate)\n",
    "print(\"Test Error Rate:\", poly_test_error_rate)\n"
   ]
  },
  {
   "cell_type": "markdown",
   "id": "6f66cadc",
   "metadata": {},
   "source": [
    "Your answer:\n",
    "\n",
    "~~~\n",
    "Please write your answer in full sentences.\n",
    "\n",
    "The RBF has the best performance on predicting the testing dataset.\n",
    "\n",
    "~~~"
   ]
  },
  {
   "cell_type": "markdown",
   "id": "a60d398f",
   "metadata": {},
   "source": [
    "## Additional Content"
   ]
  },
  {
   "cell_type": "code",
   "execution_count": 35,
   "id": "5e3397cb",
   "metadata": {
    "Rmd_chunk_options": "echo=FALSE",
    "jupyter": {
     "output_hidden": false,
     "source_hidden": true
    },
    "kernel": "Python3",
    "tags": [
     "report_output"
    ]
   },
   "outputs": [],
   "source": [
    "def make_grid(xx, yy, margin=0, mesh_size = .02, length_out=10):\n",
    "    x_min, x_max = xx.min() - margin, xx.max() + margin\n",
    "    y_min, y_max = yy.min() - margin, xx.max() + margin\n",
    "    xrange = np.arange(x_min, x_max, mesh_size)\n",
    "    yrange = np.arange(y_min, y_max, mesh_size)\n",
    "    xx, yy = np.meshgrid(xrange, yrange)\n",
    "    xgrid = pd.DataFrame({'x':xx.ravel(),'y':yy.ravel()})\n",
    "    return xgrid"
   ]
  },
  {
   "cell_type": "markdown",
   "id": "28e0922a",
   "metadata": {},
   "source": [
    "### Feature space and linear discrimination\n",
    "\n",
    "Let's look at the iris data but only setosa and versicolor."
   ]
  },
  {
   "cell_type": "code",
   "execution_count": 36,
   "id": "539f5dcd",
   "metadata": {
    "kernel": "Python3",
    "tags": [
     "report_cell"
    ]
   },
   "outputs": [],
   "source": [
    "from sklearn import datasets\n",
    "from sklearn.model_selection import train_test_split\n",
    "\n",
    "iris = datasets.load_iris()\n",
    "iris_pd = pd.DataFrame(data= np.c_[iris['data'], iris['target']],\n",
    "                     columns= [\"sepal_length\",\"sepal_width\",\"petal_length\",\"petal_width\"] + ['class'])\n",
    "iris_pd.iloc[0:100,:]"
   ]
  },
  {
   "cell_type": "markdown",
   "id": "79a19d92",
   "metadata": {},
   "source": [
    "This is a simple two class classification problem.\n",
    "The goal is to find a line that separates the two classes."
   ]
  },
  {
   "cell_type": "code",
   "execution_count": 37,
   "id": "af947572",
   "metadata": {
    "Rmd_chunk_options": "echo=FALSE,message=FALSE,out.width=\"60%\",fig.height=5, fig.width=5",
    "jupyter": {
     "output_hidden": false,
     "source_hidden": true
    },
    "kernel": "Python3",
    "tags": [
     "report_output"
    ]
   },
   "outputs": [],
   "source": [
    "y = 2*(iris.target[:100] ) - 1\n",
    "x = scale(iris.data[:100, 2:4])\n",
    "\n",
    "# Plot\n",
    "plt.scatter(x[:, 0], x[:, 1], c=np.where(y == 1, 'blue', 'red'), alpha=1)\n",
    "plt.xlabel(iris.feature_names[2])\n",
    "plt.ylabel(iris.feature_names[3])\n",
    "plt.title(\"iris setosa vs versicolor\")\n",
    "plt.show()"
   ]
  },
  {
   "cell_type": "markdown",
   "id": "8771b7b2",
   "metadata": {},
   "source": [
    "We want to find a function that can discriminate between the classes.  Using Machine learning (ML) flavored notation,\n",
    "\n",
    "  - a feature vector ( independent variable / predictor ) $\\underset{p\\times 1}{\\mathbf{x}}$ and\n",
    "  - a weight vector ( regression coefficient ) $\\underset{p\\times 1}{\\mathbf{w}}$\n",
    "A linear discriminant function is defined as\n",
    "$$g(x)=\\mathbf{w}^T\\mathbf{x}$$\n",
    "This is like a linear regression with $\\boldsymbol{\\beta}$ replaced by $\\mathbf{w}$.\n",
    "Under this setup, for a set of $n$ data $(\\mathbf{x}_1,y_1),\\dots, (\\mathbf{x}_n,y_n)$ where $y_i\\in \\{-1,+1\\}$ if we denote\n",
    "$$\\underset{n\\times p}{\\mathbf{X}}=[\\mathbf{x}_1,\\dots, \\mathbf{x}_n]^T\\mbox{ and } \\mathbf{y}=(y_1,\\dots,y_n)^T$$\n",
    "We want to find $\\hat{\\mathbf{w}}$ that gives the minimum error. However, we know that $g(x)$ will not be exactly 1 or -1, which requires us to think about some way to match the two sides."
   ]
  },
  {
   "cell_type": "markdown",
   "id": "2e5b20b5",
   "metadata": {},
   "source": [
    "### Perceptron\n",
    "\n",
    "Perceptrons are a simple classification algorithm that dates back to the 50s.\n",
    "They use the sign of the discriminant function to define the class definition.\n",
    "\n",
    "$$\n",
    "\\begin{cases}\n",
    "\\hat{y}_i=-1 \\text{ if }sign(\\mathbf{w}^T\\mathbf{x}_i)<0\\\\\n",
    "\\hat{y}_i=1\\text{ if otherwise}\n",
    "\\end{cases}\n",
    "$$\n",
    "\n",
    "This is a way to keep the linear discriminant function but force nonlinear transformation to map onto the actual outcome.  The problem with this approach is that although your prediction is precisely the class label, there is no good way to solve this problem.  Methods such as gradient descent do not work because of the discreteness of the transformation.\n",
    "\n",
    "We can solve it using a gradient descent type of approach with a gradient approximated as\n",
    "$$(\\hat{y}_i-y_i)\\mathbf{x}_i$$\n",
    "Here is a simple implementation using R flavored programming.  Notice that the data loop is avoided to speed up the computation."
   ]
  },
  {
   "cell_type": "code",
   "execution_count": 38,
   "id": "9c08a10d",
   "metadata": {
    "kernel": "Python3",
    "tags": [
     "report_cell"
    ]
   },
   "outputs": [],
   "source": [
    "def perceptron(labels, features, threshold=1e-8):\n",
    "    datax = np.c_[np.ones(len(features)), features]\n",
    "    weights = np.random.uniform(size=datax.shape[1])\n",
    "    n = datax.shape[0]\n",
    "    weights_prev = np.zeros(datax.shape[1])\n",
    "    while np.sum((weights_prev - weights) ** 2) > threshold:\n",
    "        weights_prev = weights.copy()\n",
    "        activation = labels * np.sign(np.dot(datax, weights))\n",
    "        update = np.dot(datax.T, labels * np.where(activation < 0, 1, 0))\n",
    "        weights += update\n",
    "\n",
    "    return weights"
   ]
  },
  {
   "cell_type": "markdown",
   "id": "674b0335",
   "metadata": {},
   "source": [
    "- We can draw the fitted line in the figure as"
   ]
  },
  {
   "cell_type": "code",
   "execution_count": 39,
   "id": "5155ffd1",
   "metadata": {
    "Rmd_chunk_options": "echo=FALSE,out.width=\"60%\",fig.height=5, fig.width=5",
    "jupyter": {
     "output_hidden": false,
     "source_hidden": true
    },
    "kernel": "Python3",
    "tags": [
     "report_output"
    ]
   },
   "outputs": [],
   "source": [
    "def abline(ax, b, m, *args, **kwargs):\n",
    "    \"Add a line with slope m and intercept b to ax\"\n",
    "    xlim = ax.get_xlim()\n",
    "    ylim = [m * xlim[0] + b, m * xlim[1] + b]\n",
    "    ax.plot(xlim, ylim, *args, **kwargs)\n",
    "\n",
    "np.random.seed(12345)\n",
    "wp = perceptron(y,x)\n",
    "\n",
    "# Plot\n",
    "fig, ax = plt.subplots()\n",
    "ax.scatter(x[:, 0], x[:, 1], c=np.where(y == 1, 'blue', 'red'), alpha=1)\n",
    "ax.set_xlabel(iris.feature_names[2])\n",
    "ax.set_ylabel(iris.feature_names[3])\n",
    "ax.set_title(\"iris setosa vs versicolor\")\n",
    "ax.set_xlim(-2, 2)\n",
    "ax.set_ylim(-2, 2)\n",
    "\n",
    "abline(ax,\n",
    "       0,\n",
    "       wp[2]/wp[1],\n",
    "       'r--',\n",
    "       linewidth=1)\n",
    "\n",
    "# # Plot regression line\n",
    "# x_values = np.linspace(min(x[:, 0]), max(x[:, 0]), 100)\n",
    "# y_values = wp[1] * x_values + wp[0]\n",
    "# plt.plot(x_values, y_values, color='green')\n",
    "\n",
    "plt.show()"
   ]
  },
  {
   "cell_type": "markdown",
   "id": "9af5f0ba",
   "metadata": {},
   "source": [
    "This line represents the linear discriminant function\n",
    "\\begin{eqnarray}\n",
    "g(x)&=&w_0 + w_1 \\mbox{Petal.Length} + w_2 \\mbox{Petal.Width}\\\\\n",
    "&=&\\hat{\\beta}_0 + \\hat{\\beta}_1\\mbox{Petal.Length} + \\hat{\\beta}_2 \\mbox{Petal.Width}\n",
    "\\end{eqnarray}\n",
    "\n",
    "Which looks a little odd since we are looking at the fitted hyperplane from above.  In 3D you might see it better."
   ]
  },
  {
   "cell_type": "code",
   "execution_count": 40,
   "id": "86350c58",
   "metadata": {
    "Rmd_chunk_options": "out.width=\"60%\",fig.height=6, fig.width=5",
    "kernel": "Python3",
    "tags": [
     "report_cell"
    ]
   },
   "outputs": [],
   "source": [
    "from mpl_toolkits.mplot3d import Axes3D\n",
    "from matplotlib import cm\n",
    "\n",
    "# Create a meshgrid for the plane\n",
    "x_vals, y_vals = np.meshgrid(np.linspace(min(x[:, 0]), max(x[:, 0]), 10),\n",
    "                              np.linspace(min(x[:, 1]), max(x[:, 1]), 10))\n",
    "z_vals = wp[1] * x_vals + wp[2] * y_vals + wp[0]\n",
    "\n",
    "# Create 3D scatter plot\n",
    "fig = plt.figure()\n",
    "ax = fig.add_subplot(111, projection='3d')\n",
    "\n",
    "# Plot scatter points\n",
    "ax.scatter(x[:, 0], x[:, 1], y, c=np.where(y == 1, 'blue', 'red'), marker='o')\n",
    "\n",
    "import matplotlib.colors as colors\n",
    "# Plot plane\n",
    "\n",
    "#ax.plot_surface(x_vals, y_vals, z_vals, alpha=0.7, facecolors=cm.bwr(z_vals), )#color='blue'\n",
    "my_cmap = plt.get_cmap('bwr_r')\n",
    "\n",
    "ax.plot_surface(x_vals, y_vals, z_vals, alpha=0.7, cmap = my_cmap)#color='blue'\n",
    "\n",
    "\n",
    "# Set labels and title\n",
    "ax.set_xlabel(iris.feature_names[2])\n",
    "ax.set_ylabel(iris.feature_names[3])\n",
    "ax.set_zlabel('Target')\n",
    "ax.set_title('3D Scatterplot with Plane')\n",
    "ax.set_xlim(-2, 2)\n",
    "ax.set_ylim(-2, 2)\n",
    "plt.show()"
   ]
  },
  {
   "cell_type": "markdown",
   "id": "e3109da2",
   "metadata": {},
   "source": [
    "The plane is high where the y values are high and low where the y values are low.  Since all we care about is whether this function is above or below zero, we can find the line that this plane intersects a plane at $y=0$.  A separating hyperplane is defined by $g(x)=0$, so in terms of Petal Length\n",
    "$$\\mbox{Petal.Width}= - \\frac{w_0}{w_2} - \\frac{w_1}{w_2} \\mbox{Petal.Length}$$\n",
    "If we draw the line of intersection, we see that this separates the classes well."
   ]
  },
  {
   "cell_type": "code",
   "execution_count": 41,
   "id": "24905110",
   "metadata": {
    "Rmd_chunk_options": "echo=FALSE,out.width=\"60%\",fig.height=5, fig.width=5",
    "jupyter": {
     "output_hidden": false,
     "source_hidden": true
    },
    "kernel": "Python3",
    "tags": [
     "report_output"
    ]
   },
   "outputs": [],
   "source": [
    "import statsmodels.api as sm\n",
    "# Plot\n",
    "fig, ax = plt.subplots()\n",
    "ax.scatter(x[:, 0], x[:, 1], c=np.where(y == 1, 'blue', 'red'), alpha=1)\n",
    "ax.set_xlabel(iris.feature_names[2])\n",
    "ax.set_ylabel(iris.feature_names[3])\n",
    "ax.set_title(\"iris setosa vs versicolor\")\n",
    "\n",
    "# Add constant column for the intercept\n",
    "x_with_intercept = sm.add_constant(x)\n",
    "\n",
    "# # Fit linear regression using statsmodels\n",
    "# model = sm.OLS(y, x_with_intercept)\n",
    "# fit0 = model.fit()\n",
    "#\n",
    "# intercept = fit0.params[0]\n",
    "# coefficients = fit0.params[1:]\n",
    "\n",
    "\n",
    "abline(ax,-wp[0]/wp[2],-wp[1]/wp[2],\n",
    "       'g--',\n",
    "       linewidth=3)\n",
    "ax.set_xlim(-2, 2)\n",
    "ax.set_ylim(-2, 2)\n",
    "plt.show()"
   ]
  },
  {
   "cell_type": "markdown",
   "id": "b5adc300",
   "metadata": {},
   "source": [
    "The prediction is made at"
   ]
  },
  {
   "cell_type": "code",
   "execution_count": 42,
   "id": "7592a606",
   "metadata": {
    "Rmd_chunk_options": "echo=FALSE,out.width=\"60%\",fig.height=5, fig.width=5",
    "jupyter": {
     "output_hidden": false,
     "source_hidden": true
    },
    "kernel": "Python3",
    "tags": [
     "report_output"
    ]
   },
   "outputs": [],
   "source": [
    "# Calculate classification\n",
    "x1 = np.arange(-1.5, 1.55, 0.05)\n",
    "x2 = np.arange(-1.5, 1.55, 0.05)\n",
    "x1, x2 = np.meshgrid(x1, x2)\n",
    "xgrid = pd.DataFrame({'Petal.Length': x1.flatten(), 'Petal.Width': x2.flatten()})\n",
    "\n",
    "xgrid_with_bias = np.c_[np.ones(xgrid.shape[0]), xgrid.values]  # Add bias term\n",
    "ccc = np.where(np.dot(xgrid_with_bias, wp) > 0, 1, 0)\n",
    "\n",
    "# Plot grid points\n",
    "fig, ax = plt.subplots()\n",
    "ax.scatter(xgrid['Petal.Length'], xgrid['Petal.Width'], color=np.array(['blue' if c == 1 else 'red' for c in ccc]), alpha=0.1, marker='o')\n",
    "ax.set_xlabel('Petal.Length')\n",
    "ax.set_ylabel('Petal.Width')\n",
    "ax.set_title('iris setosa vs versicolor')\n",
    "\n",
    "# Plot decision boundary line\n",
    "#plt.plot(xgrid[:, 0], (-wp[0] - wp[1] * xgrid[:, 0]) / wp[2], color='green')\n",
    "abline(ax,-wp[0]/wp[2],-wp[1]/wp[2],\n",
    "       'g--',\n",
    "       linewidth=1)\n",
    "# Plot data points\n",
    "ax.scatter(x[:, 0], x[:, 1], color=np.where(y == 1, 'blue', 'red'), alpha=1)\n",
    "ax.set_xlim(-2, 2)\n",
    "ax.set_ylim(-2, 2)\n",
    "plt.show();"
   ]
  },
  {
   "cell_type": "markdown",
   "id": "6d06d472",
   "metadata": {},
   "source": [
    "However, you might also notice some arbitrariness in this result.  The line is closer to the blue.  If you rerun the algorithm, you will see that the result varies."
   ]
  },
  {
   "cell_type": "code",
   "execution_count": 43,
   "id": "c8b2dfe5",
   "metadata": {
    "Rmd_chunk_options": "echo=FALSE,out.width=\"60%\",fig.height=5, fig.width=5",
    "jupyter": {
     "output_hidden": false,
     "source_hidden": true
    },
    "kernel": "Python3",
    "tags": [
     "report_output"
    ]
   },
   "outputs": [],
   "source": [
    "# Calculate classification\n",
    "x1 = np.arange(-1.5, 1.55, 0.05)\n",
    "x2 = np.arange(-1.5, 1.55, 0.05)\n",
    "x1, x2 = np.meshgrid(x1, x2)\n",
    "xgrid = pd.DataFrame({'Petal.Length': x1.flatten(), 'Petal.Width': x2.flatten()})\n",
    "\n",
    "xgrid_with_bias = np.c_[np.ones(xgrid.shape[0]), xgrid.values]  # Add bias term\n",
    "ccc = np.where(np.dot(xgrid_with_bias, wp) > 0, 1, 0)\n",
    "\n",
    "# plot(xgrid[,1],xgrid[,2],col=rgb(ccc,0,abs(1-ccc),alpha=0.1),pch=20,\n",
    "#      xlab=\"Petal.Length\", ylab=\"Petal.Width\", main= \"iris setosa vs versicolor\")\n",
    "# abline(-wp[1]/wp[3],-wp[2]/wp[3])\n",
    "# points(x[,1],x[,2],col=rgb(1*(y==1),0,abs(1-1*(y==1)),alpha=1))\n",
    "\n",
    "# Plot grid points\n",
    "fig, ax = plt.subplots()\n",
    "ax.scatter(xgrid['Petal.Length'], xgrid['Petal.Width'], color=np.array(['blue' if c == 1 else 'red' for c in ccc]), alpha=0.1, marker='o')\n",
    "ax.set_xlabel('Petal.Length')\n",
    "ax.set_ylabel('Petal.Width')\n",
    "ax.set_title('iris setosa vs versicolor')\n",
    "ax.set_xlim(-2, 2)\n",
    "ax.set_ylim(-2, 2)\n",
    "# Plot decision boundary line\n",
    "#plt.plot(xgrid[:, 0], (-wp[0] - wp[1] * xgrid[:, 0]) / wp[2], color='green')\n",
    "for i in range(0, 5):\n",
    "  wpr=perceptron(y,x,1e-16)\n",
    "  abline(ax,-wpr[0]/wpr[2],-wpr[1]/wpr[2],\n",
    "       'g:',\n",
    "       linewidth=1)\n",
    "\n",
    "# Plot data points\n",
    "ax.scatter(x[:, 0], x[:, 1], color=np.where(y == 1, 'blue', 'red'), alpha=1)\n",
    "abline(ax,-wp[0]/wp[2],-wp[1]/wp[2],\n",
    "       'g--',\n",
    "       linewidth=1)\n",
    "plt.show()\n",
    "#\n",
    "#\n",
    "# x1 <- seq(-1.5,1.5,by=0.05)\n",
    "# x2 <- seq(-1.5,1.5,by=0.05)\n",
    "# xgrid <- expand.grid(Petal.Length =x1, Petal.Width=x2)\n",
    "# ccc<- 1*((as.matrix(cbind(1,xgrid))%*%wp )>0)\n",
    "#\n",
    "# plot(xgrid[,1],xgrid[,2],col=rgb(ccc,0,abs(1-ccc),alpha=0.1),pch=20,\n",
    "#      xlab=\"Petal.Length\", ylab=\"Petal.Width\", main= \"iris setosa vs versicolor\")\n",
    "# abline(-wp[1]/wp[3],-wp[2]/wp[3])\n",
    "# set.seed(123)\n",
    "# for( i in 1:5 ){\n",
    "# wpr=Perceptron(y,x,1e-16)\n",
    "# abline(-wpr[1]/wpr[3],-wpr[2]/wpr[3],lty=3)\n",
    "# }\n",
    "#\n",
    "# points(x[,1],x[,2],col=rgb(1*(y==1),0,abs(1-1*(y==1)),alpha=1))"
   ]
  },
  {
   "cell_type": "markdown",
   "id": "26762f98",
   "metadata": {},
   "source": [
    "This tells us the limit of such arbitrary computation.  Even though the data-generating model might be appropriate for the problem, the result is without guarantee if we use an approximate algorithm."
   ]
  },
  {
   "cell_type": "markdown",
   "id": "b7903a91",
   "metadata": {},
   "source": [
    "#### Regression for classification.\n",
    "\n",
    "This makes you wonder, can we use linear regression?  Rather than developing nonlinear mapping and struggling with computation, use MSE as an approximate loss and fit a hyperplane to the data?  We can.  Although the prediction will not resemble the actual values, we can still fit an optimal hyperplane regarding the squared error loss.\n",
    "$$y=\\beta_0 + \\beta_1\\mbox{Petal.Length} + \\beta_2 \\mbox{Petal.Width}$$\n",
    "We can draw the fitted linear discriminant function\n",
    "\\begin{eqnarray}\n",
    "g(x)&=&w_0 + w_1 \\mbox{Petal.Length} + w_2 \\mbox{Petal.Width}\\\\\n",
    "&=&\\hat{\\beta}_0 + \\hat{\\beta}_1\\mbox{Petal.Length} + \\hat{\\beta}_2 \\mbox{Petal.Width}\n",
    "\\end{eqnarray}"
   ]
  },
  {
   "cell_type": "code",
   "execution_count": 44,
   "id": "94df24cc",
   "metadata": {
    "Rmd_chunk_options": "echo=FALSE,out.width=\"60%\",fig.height=5, fig.width=5",
    "jupyter": {
     "output_hidden": false,
     "source_hidden": true
    },
    "kernel": "Python3",
    "tags": [
     "report_output"
    ]
   },
   "outputs": [],
   "source": [
    "fig, ax = plt.subplots()\n",
    "ax.scatter(x[:, 0], x[:, 1], c=np.where(y == 1, 'blue', 'red'), alpha=1)\n",
    "ax.set_xlabel(iris.feature_names[2])\n",
    "ax.set_ylabel(iris.feature_names[3])\n",
    "ax.set_title(\"iris setosa vs versicolor\")\n",
    "ax.set_xlim(-2, 2)\n",
    "ax.set_ylim(-2, 2)\n",
    "# Fit linear regression\n",
    "fit0 = LinearRegression().fit(x, y)\n",
    "intercept = fit0.intercept_\n",
    "slopes = fit0.coef_\n",
    "abline(ax,0,-slopes[0]/slopes[1],\n",
    "       'g--',\n",
    "       linewidth=1)\n",
    "plt.show()"
   ]
  },
  {
   "cell_type": "markdown",
   "id": "2025ba2b",
   "metadata": {},
   "source": [
    "Again it looks weird.  It's important to note that this is not the regression line $\\hat{y}$ since we are showing the predictors.   You might notice all the setosa (blue) are below the line and all the versicolor (red) are above the line.\n",
    "\n",
    "Again in 3D you might see it better."
   ]
  },
  {
   "cell_type": "code",
   "execution_count": 45,
   "id": "3ffde77b",
   "metadata": {
    "Rmd_chunk_options": "echo=FALSE",
    "jupyter": {
     "output_hidden": false,
     "source_hidden": true
    },
    "kernel": "Python3",
    "tags": [
     "report_output"
    ]
   },
   "outputs": [],
   "source": [
    "# fit0<-lm(y~Petal.Length +Petal.Width, data=data.frame(x,y) )\n",
    "# s3d <-scatterplot3d(x[,1],x[,2],y, pch=16, highlight.3d=FALSE,\n",
    "#                     color=rgb(1*(y==1),0,abs(1-1*(y==1)),alpha=1),\n",
    "#                     xlab=\"Petal.Length\",ylab=\"Petal.Width\",\n",
    "#   type=\"p\", main=\"3D Scatterplot\",angle=65)\n",
    "# s3d$plane3d(fit0, col = rgb(0,0,1,0.7),lty = \"dotted\")\n",
    "\n",
    "# Create 3D scatter plot\n",
    "fig = plt.figure()\n",
    "ax = fig.add_subplot(111, projection='3d')\n",
    "\n",
    "# Scatter plot\n",
    "ax.scatter(x[:, 0], x[:, 1], y, c=np.where(y == 1, 'blue', 'red'), marker='o')\n",
    "\n",
    "# Fit plane\n",
    "xx, yy = np.meshgrid(np.linspace(min(x[:, 0]), max(x[:, 0]), 10),\n",
    "                     np.linspace(min(x[:, 1]), max(x[:, 1]), 10))\n",
    "zz = fit0.intercept_ + fit0.coef_[0] * xx + fit0.coef_[1] * yy\n",
    "ax.plot_surface(xx, yy, zz, alpha=0.7, color='blue')\n",
    "\n",
    "# Set labels and title\n",
    "ax.set_xlabel('Petal.Length')\n",
    "ax.set_ylabel('Petal.Width')\n",
    "ax.set_zlabel('Target')\n",
    "ax.set_title('3D Scatterplot with Plane')\n",
    "ax.set_xlim(-2, 2)\n",
    "ax.set_ylim(-2, 2)\n",
    "plt.show()"
   ]
  },
  {
   "cell_type": "code",
   "execution_count": 46,
   "id": "2da20650",
   "metadata": {
    "Rmd_chunk_options": "warning=FALSE,echo=FALSE",
    "jupyter": {
     "output_hidden": false,
     "source_hidden": true
    },
    "kernel": "Python3",
    "tags": [
     "report_output"
    ]
   },
   "outputs": [],
   "source": [
    "# fig <- plot_ly(data=data.frame(x,y), x = x[,1], y = ~x[,2], z=y, color = ~ factor(y),colors=rgb(1*(y==1),0,abs(1-1*(y==1)),alpha=1), type = 'scatter3d',mode = \"markers\")%>%\n",
    "#   add_markers(size = 8) %>%\n",
    "#   layout(\n",
    "#     xaxis = list(\n",
    "#       zerolinecolor = \"#ffff\",\n",
    "#       zerolinewidth = 2,\n",
    "#       gridcolor='#ffff'),\n",
    "#     yaxis = list(\n",
    "#       zerolinecolor = \"#ffff\",\n",
    "#       zerolinewidth = 2,\n",
    "#       gridcolor='#ffff'),\n",
    "#     scene =list(bgcolor = \"#e5ecf6\"))\n",
    "#\n",
    "# #Graph Resolution (more important for more complex shapes)\n",
    "# graph_reso <- 0.05\n",
    "#\n",
    "# #Setup Axis\n",
    "# axis_x <- seq(min(x[,1]), max(x[,1]), by = graph_reso)\n",
    "# axis_y <- seq(min(x[,2]), max(x[,2]), by = graph_reso)\n",
    "#\n",
    "# #Sample points\n",
    "# petal_lm_surface <- expand.grid(Petal.Length = axis_x,Petal.Width = axis_y,KEEP.OUT.ATTRS = F)\n",
    "# petal_lm_surface$y <- predict.lm(fit0, newdata = petal_lm_surface)\n",
    "# petal_lm_surface <- acast(petal_lm_surface, Petal.Length ~ Petal.Width, value.var = \"Petal.Length\") #y ~\n",
    "#\n",
    "# iris_plot <- add_trace(p = fig,color = I(\"red\"),\n",
    "#                        z = petal_lm_surface,\n",
    "#                        x = axis_x,\n",
    "#                        y = axis_y,\n",
    "#                        type = \"surface\")\n",
    "#\n",
    "# iris_plot\n",
    "\n",
    "# import plotly.graph_objects as go\n",
    "#\n",
    "#\n",
    "# # Create scatter plot\n",
    "# fig = go.Figure(data=go.Scatter3d(\n",
    "#     x=x[:, 0],\n",
    "#     y=x[:, 1],\n",
    "#     z=y,\n",
    "#     mode='markers',\n",
    "#     marker=dict(\n",
    "#         size=8,\n",
    "#         color=np.where(y == 1, 'blue', 'red'),\n",
    "#         opacity=1\n",
    "#     )\n",
    "# ))\n",
    "#\n",
    "# # Define axis range\n",
    "# axis_x = np.arange(np.min(x[:, 0]), np.max(x[:, 0]), 0.05)\n",
    "# axis_y = np.arange(np.min(x[:, 1]), np.max(x[:, 1]), 0.05)\n",
    "#\n",
    "# # Generate surface data\n",
    "# petal_lm_surface = pd.DataFrame(index=axis_x, columns=axis_y)\n",
    "# for i in axis_x:\n",
    "#     for j in axis_y:\n",
    "#         petal_lm_surface.loc[i, j] = fit0.predict(np.array([[i, j]]))\n",
    "#\n",
    "# # Add surface plot\n",
    "# fig.add_trace(go.Surface(\n",
    "#     x=axis_x,\n",
    "#     y=axis_y,\n",
    "#     z=petal_lm_surface.values,\n",
    "#     colorscale='Reds',\n",
    "#     showscale=False\n",
    "# ))\n",
    "#\n",
    "# # Update layout\n",
    "# fig.update_layout(\n",
    "#     scene=dict(\n",
    "#         xaxis=dict(zerolinecolor=\"lavender\", zerolinewidth=2, gridcolor='lavender'),\n",
    "#         yaxis=dict(zerolinecolor=\"lavender\", zerolinewidth=2, gridcolor='lavender'),\n",
    "#         bgcolor=\"white\"\n",
    "#     )\n",
    "# )\n",
    "#\n",
    "# fig.show()"
   ]
  },
  {
   "cell_type": "markdown",
   "id": "f8260fdf",
   "metadata": {},
   "source": [
    "Separating hyper plane is defined by $g(x)=0$ so in terms of Petal Length\n",
    "$$\\mbox{Petal.Width}= - \\frac{w_0}{w_2} - \\frac{w_1}{w_2} \\mbox{Petal.Length}$$"
   ]
  },
  {
   "cell_type": "code",
   "execution_count": 47,
   "id": "f77d54ad",
   "metadata": {
    "Rmd_chunk_options": "echo=FALSE,out.width=\"60%\",fig.height=5, fig.width=5",
    "jupyter": {
     "output_hidden": false,
     "source_hidden": true
    },
    "kernel": "Python3",
    "tags": [
     "report_output"
    ]
   },
   "outputs": [],
   "source": [
    "# plot(x[,1],x[,2],xlab=names(iris)[3],ylab=names(iris)[4],\n",
    "#      col=rgb(1*(y==1),0,abs(1-1*(y==1)),alpha=1),\n",
    "#      main= \"iris setosa vs versicolor\")\n",
    "# cf0=coef(fit0)\n",
    "# abline(-cf0[1]/cf0[3],-cf0[2]/cf0[3])\n",
    "\n",
    "\n",
    "fig, ax = plt.subplots()\n",
    "ax.scatter(x[:, 0], x[:, 1], c=np.where(y == 1, 'blue', 'red'), alpha=1)\n",
    "ax.set_xlabel(iris.feature_names[2])\n",
    "ax.set_ylabel(iris.feature_names[3])\n",
    "ax.set_title(\"iris setosa vs versicolor\")\n",
    "ax.set_xlim(-2, 2)\n",
    "ax.set_ylim(-2, 2)\n",
    "# Fit linear regression\n",
    "fit0 = LinearRegression().fit(x, y)\n",
    "intercept = fit0.intercept_\n",
    "slopes = fit0.coef_\n",
    "abline(ax,-intercept/slopes[1],-slopes[0]/slopes[1],\n",
    "       'g--',\n",
    "       linewidth=1)\n",
    "fig.show()"
   ]
  },
  {
   "cell_type": "markdown",
   "id": "06e2ad50",
   "metadata": {},
   "source": [
    "Which is an orthogonal line to $g(x)$.\n",
    "\n",
    "Prediction is made at"
   ]
  },
  {
   "cell_type": "code",
   "execution_count": 48,
   "id": "d614a986",
   "metadata": {
    "Rmd_chunk_options": "echo=FALSE,out.width=\"60%\",fig.height=5, fig.width=5",
    "jupyter": {
     "output_hidden": false,
     "source_hidden": true
    },
    "kernel": "Python3",
    "tags": [
     "report_output"
    ]
   },
   "outputs": [],
   "source": [
    "# x1 <- seq(-1.5,1.5,by=0.05)\n",
    "# x2 <- seq(-1.5,1.5,by=0.05)\n",
    "# xgrid <- expand.grid(Petal.Length =x1, Petal.Width=x2)\n",
    "# ccc<-1*(predict(fit0,newdata=(xgrid))>0)\n",
    "# cf0=coef(fit0)\n",
    "# plot(xgrid[,1],xgrid[,2],col=rgb(ccc,0,abs(1-ccc),alpha=0.1),pch=20,\n",
    "#      xlab=\"Petal.Length\", ylab=\"Petal.Width\", main= \"iris setosa vs versicolor\")\n",
    "# abline(-cf0[1]/cf0[3],-cf0[2]/cf0[3])\n",
    "# points(x[,1],x[,2],col=rgb(1*(y==1),0,abs(1-1*(y==1)),alpha=1))\n",
    "coef = fit0.coef_\n",
    "intercept = fit0.intercept_\n",
    "\n",
    "# Create a grid of points for visualization\n",
    "x1 = np.arange(-1.5, 1.5, 0.05)\n",
    "x2 = np.arange(-1.5, 1.5, 0.05)\n",
    "#xgrid = np.array(list(product(x1, x2)))\n",
    "x1_grid, x2_grid = np.meshgrid(x1, x2)\n",
    "xgrid = pd.DataFrame({'Petal.Length': x1_grid.ravel(), 'Petal.Width': x2_grid.ravel()})\n",
    "# Predict the class labels for the grid points\n",
    "ccc = fit0.predict(xgrid)\n",
    "\n",
    "# Plot the decision boundary and data points\n",
    "#plt.figure(figsize=(10, 6))\n",
    "fig, ax = plt.subplots()\n",
    "ax.scatter(x[:, 0], x[:, 1], c=np.where(y == 1, 'blue', 'red'), cmap=plt.cm.Paired, edgecolors='k')\n",
    "ax.scatter(xgrid.iloc[:, 0], xgrid.iloc[:, 1], c=np.where(ccc > 0, 'blue', 'red'), alpha=0.1)\n",
    "\n",
    "# Plot decision boundary\n",
    "\n",
    "# x2 = (-coef[0] / coef[1]) * x1 - (intercept / coef[1])\n",
    "# plt.plot(x1, x2, color='black', linestyle='--')\n",
    "\n",
    "abline(ax,-intercept / coef[1],\n",
    "  -coef[0]/coef[1],\n",
    "       'g--',\n",
    "       linewidth=1)\n",
    "\n",
    "ax.set_xlabel('Petal Length')\n",
    "ax.set_ylabel('Petal Width')\n",
    "ax.set_title('Iris Setosa vs Versicolor')\n",
    "ax.set_xlim(-2, 2)\n",
    "ax.set_ylim(-2, 2)\n",
    "plt.show()"
   ]
  },
  {
   "cell_type": "markdown",
   "id": "905ece58",
   "metadata": {},
   "source": [
    "Bootstraping to check the uncertainty"
   ]
  },
  {
   "cell_type": "code",
   "execution_count": 49,
   "id": "4e50c6fe",
   "metadata": {
    "Rmd_chunk_options": "echo=FALSE,out.width=\"60%\",fig.height=5, fig.width=5",
    "jupyter": {
     "output_hidden": false,
     "source_hidden": true
    },
    "kernel": "Python3",
    "tags": [
     "report_output"
    ]
   },
   "outputs": [],
   "source": [
    "# x1 <- seq(-1.5,1.5,by=0.05)\n",
    "# x2 <- seq(-1.5,1.5,by=0.05)\n",
    "# xgrid <- expand.grid(Petal.Length =x1, Petal.Width=x2)\n",
    "# ccc<-1*(predict(fit0,newdata=(xgrid))>0)\n",
    "# #fit0<-lm(y~Petal.Length +Petal.Width, data=data.frame(x,y) )\n",
    "# fit0.boot <- car::Boot(fit0, R=20)\n",
    "# cf0=coef(fit0)\n",
    "# plot(xgrid[,1],xgrid[,2],col=rgb(ccc,0,abs(1-ccc),alpha=0.1),pch=20,\n",
    "#      xlab=\"Petal.Length\", ylab=\"Petal.Width\", main= \"iris setosa vs versicolor\")\n",
    "# points(x[,1],x[,2],col=rgb(1*(y==1),0,abs(1-1*(y==1)),alpha=1))\n",
    "#\n",
    "# for( i in 1:20){\n",
    "#   cf0b<-fit0.boot$t[i,]\n",
    "#   abline(-cf0b[1]/cf0b[3],-cf0b[2]/cf0b[3],lty=2,col=rgb(0,0,0,alpha=0.3))\n",
    "# }\n",
    "# abline(-cf0[1]/cf0[3],-cf0[2]/cf0[3])\n",
    "\n",
    "\n",
    "#plt.figure(figsize=(10, 6))\n",
    "fig, ax = plt.subplots()\n",
    "ax.scatter(x[:, 0], x[:, 1], c=np.where(y == 1, 'blue', 'red'), cmap=plt.cm.Paired, edgecolors='k')\n",
    "ax.scatter(xgrid.iloc[:, 0], xgrid.iloc[:, 1], c=np.where(ccc > 0, 'blue', 'red'), alpha=0.1)\n",
    "\n",
    "# Plot decision boundary\n",
    "\n",
    "# x2 = (-coef[0] / coef[1]) * x1 - (intercept / coef[1])\n",
    "# plt.plot(x1, x2, color='black', linestyle='--')\n",
    "\n",
    "abline(ax,-intercept / coef[1],\n",
    "  -coef[0]/coef[1],\n",
    "       'g--',\n",
    "       linewidth=1)\n",
    "\n",
    "from sklearn.utils import resample\n",
    "# Plot bootstrap resampled decision boundaries\n",
    "for _ in range(20):\n",
    "    # Resample data\n",
    "    x_resampled, y_resampled = resample(x, y)\n",
    "    # Fit model\n",
    "    #model.fit(x_resampled, y_resampled)\n",
    "    fit0b = LinearRegression().fit(x_resampled, y_resampled)\n",
    "    intercept_b = fit0b.intercept_\n",
    "    slopes_b = fit0b.coef_\n",
    "    # Plot decision boundary\n",
    "    # x2_resampled = (-slopes_b[0] / slopes_b[1]) * x1 - (intercept_b / slopes_b[1])\n",
    "    # plt.plot(x1, x2_resampled, color='black', linestyle='--', alpha=0.3)\n",
    "    abline(ax,-intercept_b / slopes_b[1],\n",
    "        -slopes_b[0] / slopes_b[1],\n",
    "       'g--',\n",
    "       linewidth=1)\n",
    "\n",
    "# # Plot original decision boundary\n",
    "# coef = model.coef_[0]\n",
    "# intercept = model.intercept_\n",
    "# x2 = (-coef[0] / coef[1]) * x1 - (intercept / coef[1])\n",
    "# plt.plot(x1, x2, color='black')\n",
    "#\n",
    "# plt.xlabel('Petal Length')\n",
    "# plt.ylabel('Petal Width')\n",
    "# plt.title('Iris Setosa vs Versicolor')\n",
    "ax.set_xlabel('Petal Length')\n",
    "ax.set_ylabel('Petal Width')\n",
    "ax.set_title('Iris Setosa vs Versicolor')\n",
    "ax.set_xlim(-2, 2)\n",
    "ax.set_ylim(-2, 2)\n",
    "plt.show()"
   ]
  },
  {
   "cell_type": "markdown",
   "id": "623e3262",
   "metadata": {},
   "source": [
    "#### Ridge regression\n",
    "\n",
    "If we can fit regression, we can do the same with ridge regression.\n",
    "In ridge regression one minimizes MSE with penalty $\\lambda/2 ||w||^2$, which gives us the solution\n",
    "\n",
    "$$\\hat{\\mathbf{w}}_{\\lambda}=(\\mathbf{X}^T\\mathbf{X}+\\lambda\\mathbf{I})^{-1}\\mathbf{X}^T \\mathbf{y}$$\n",
    "But what does that regularization do to the decision boundary and the corresponding margin?"
   ]
  },
  {
   "cell_type": "code",
   "execution_count": 50,
   "id": "c705b97a",
   "metadata": {
    "Rmd_chunk_options": "echo=FALSE,out.width=\"60%\",fig.height=5, fig.width=5",
    "jupyter": {
     "output_hidden": false,
     "source_hidden": true
    },
    "kernel": "Python3",
    "tags": [
     "report_output"
    ]
   },
   "outputs": [],
   "source": [
    "from sklearn.linear_model import Ridge\n",
    "from sklearn.linear_model import RidgeCV\n",
    "ridgereg =RidgeCV(alphas=[1e-3, 1e-2, 1e-1, 1],fit_intercept=True,cv=5).fit(x, y)\n",
    "cfr=ridgereg.coef_\n",
    "cfr0=ridgereg.intercept_\n",
    "ccr=ridgereg.predict(xgrid)\n",
    "#\n",
    "#\n",
    "# ridgemodel = sm.OLS.fit_regularized(y, x_with_intercept)\n",
    "# ridge_fit0 = ridgemodel.fit()\n",
    "# cvglm<-cv.glmnet(x=x,y=y,alpha=0,family=c(\"gaussian\"),standardize=F)\n",
    "#\n",
    "# fit1<-glmnet(x=x,y=y,alpha=0,lambda=cvglm$lambda.min,family=c(\"gaussian\"),standardize=F)\n",
    "# cfr = coef(fit1)\n",
    "# Plot the decision boundary and data points\n",
    "#plt.figure(figsize=(10, 6))\n",
    "fig, ax = plt.subplots()\n",
    "ax.scatter(x[:, 0], x[:, 1], c=np.where(y == 1, 'blue', 'red'), cmap=plt.cm.Paired, edgecolors='k')\n",
    "ax.scatter(xgrid.iloc[:, 0], xgrid.iloc[:, 1], c=np.where(ccc > 0, 'blue', 'red'), alpha=0.1)\n",
    "# Plot decision boundary\n",
    "\n",
    "# x2 = (-coef[0] / coef[1]) * x1 - (intercept / coef[1])\n",
    "# plt.plot(x1, x2, color='black', linestyle='--')\n",
    "\n",
    "abline(ax,-intercept / coef[1],\n",
    "  -coef[0]/coef[1],\n",
    "       'g--',\n",
    "       linewidth=1)\n",
    "abline(ax,-cfr0 / cfr[1],\n",
    "  -cfr[0]/cfr[1],\n",
    "       'y--',\n",
    "       linewidth=1)\n",
    "ax.set_xlabel('Petal Length')\n",
    "ax.set_ylabel('Petal Width')\n",
    "ax.set_title('Iris Setosa vs Versicolor')\n",
    "ax.set_xlim(-2, 2)\n",
    "ax.set_ylim(-2, 2)\n",
    "plt.show()\n",
    "\n",
    "# x1 <- seq(-1.5,1.5,by=0.05)\n",
    "# x2 <- seq(-1.5,1.5,by=0.05)\n",
    "# ccc<-1*(predict(fit1,as.matrix(xgrid),s=50)>0)\n",
    "#\n",
    "# xgrid <- expand.grid(Petal.Length =x1, Petal.Width=x2)\n",
    "# plot(xgrid[,1],xgrid[,2],col=rgb(ccc,0,abs(1-ccc),alpha=0.1),pch=20,\n",
    "#      xlab=\"Petal.Length\", ylab=\"Petal.Width\", main= \"iris setosa vs versicolor\")\n",
    "# points(x[,1],x[,2],col=rgb(1*(y==1),0,abs(1-1*(y==1)),alpha=1))\n",
    "# abline(0,cfr[3]/cfr[2])\n",
    "# abline(-cfr[1]/cfr[3],-cfr[2]/cfr[3])\n",
    "# abline(-cf0[1]/cf0[3],-cf0[2]/cf0[3],lty=3)"
   ]
  },
  {
   "cell_type": "markdown",
   "id": "a905792e",
   "metadata": {},
   "source": [
    "Even though the LS works well in separating the two species, the ridge solution seems even better since the line has a larger margin.  The value of the hyperparameter is chosen to generalize better, which translates to a larger margin."
   ]
  },
  {
   "cell_type": "markdown",
   "id": "67140eec",
   "metadata": {},
   "source": [
    "#### Binomial likelihood\n",
    "\n",
    "We can refine the result by using a binomial likelihood more appropriate for the binary classification problem."
   ]
  },
  {
   "cell_type": "code",
   "execution_count": 51,
   "id": "071def43",
   "metadata": {
    "Rmd_chunk_options": "echo=FALSE,out.width=\"60%\",fig.height=5, fig.width=5",
    "jupyter": {
     "output_hidden": false,
     "source_hidden": true
    },
    "kernel": "Python3",
    "tags": [
     "report_output"
    ]
   },
   "outputs": [],
   "source": [
    "# cvglm<-cv.glmnet(x=x,y=y,alpha=0,family=c(\"binomial\"),standardize=F)\n",
    "#\n",
    "# fit1<-glmnet(x=x,y=y,alpha=0,lambda=cvglm$lambda.min,family=c(\"binomial\"),standardize=F)\n",
    "# cfbr = coef(fit1)\n",
    "#\n",
    "# x1 <- seq(-1.5,1.5,by=0.05)\n",
    "# x2 <- seq(-1.5,1.5,by=0.05)\n",
    "# ccc<-1*(predict(fit1,as.matrix(xgrid),s=50)>0)\n",
    "#\n",
    "# xgrid <- expand.grid(Petal.Length =x1, Petal.Width=x2)\n",
    "# plot(xgrid[,1],xgrid[,2],col=rgb(ccc,0,abs(1-ccc),alpha=0.1),pch=20,\n",
    "#      xlab=\"Petal.Length\", ylab=\"Petal.Width\", main= \"iris setosa vs versicolor\")\n",
    "# points(x[,1],x[,2],col=rgb(1*(y==1),0,abs(1-1*(y==1)),alpha=1))\n",
    "# abline(0,cfbr[3]/cfbr[2])\n",
    "# abline(-cfbr[1]/cfbr[3],-cfbr[2]/cfbr[3])\n",
    "# abline(-cfr[1]/cfr[3],-cfr[2]/cfr[3],lty=2)\n",
    "# abline(-cf0[1]/cf0[3],-cf0[2]/cf0[3],lty=3)\n",
    "\n",
    "from sklearn.linear_model import Ridge\n",
    "from sklearn.linear_model import LogisticRegressionCV\n",
    "\n",
    "logitridgereg =LogisticRegressionCV(fit_intercept=True,cv=5).fit(x, y)\n",
    "cfbr=logitridgereg.coef_[0]\n",
    "cfbr0=logitridgereg.intercept_\n",
    "ccbr=logitridgereg.predict(xgrid)\n",
    "#\n",
    "#\n",
    "# ridgemodel = sm.OLS.fit_regularized(y, x_with_intercept)\n",
    "# ridge_fit0 = ridgemodel.fit()\n",
    "# cvglm<-cv.glmnet(x=x,y=y,alpha=0,family=c(\"gaussian\"),standardize=F)\n",
    "#\n",
    "# fit1<-glmnet(x=x,y=y,alpha=0,lambda=cvglm$lambda.min,family=c(\"gaussian\"),standardize=F)\n",
    "# cfr = coef(fit1)\n",
    "# Plot the decision boundary and data points\n",
    "#plt.figure(figsize=(10, 6))\n",
    "fig, ax = plt.subplots()\n",
    "ax.scatter(x[:, 0], x[:, 1], c=np.where(y == 1, 'blue', 'red'), cmap=plt.cm.Paired, edgecolors='k')\n",
    "ax.scatter(xgrid.iloc[:, 0], xgrid.iloc[:, 1], c=np.where(ccc > 0, 'blue', 'red'), alpha=0.1)\n",
    "# Plot decision boundary\n",
    "\n",
    "# x2 = (-coef[0] / coef[1]) * x1 - (intercept / coef[1])\n",
    "# plt.plot(x1, x2, color='black', linestyle='--')\n",
    "\n",
    "abline(ax,-intercept / coef[1],\n",
    "  -coef[0]/coef[1],\n",
    "       'g--',\n",
    "       linewidth=1)\n",
    "abline(ax,-cfr0 / cfr[1],\n",
    "  -cfr[0]/cfr[1],\n",
    "       'y--',\n",
    "       linewidth=1)\n",
    "abline(ax,-cfbr0 / cfbr[1],\n",
    "  -cfbr[0]/cfbr[1],\n",
    "       'w--',\n",
    "       linewidth=1)\n",
    "ax.set_xlabel('Petal Length')\n",
    "ax.set_ylabel('Petal Width')\n",
    "ax.set_title('Iris Setosa vs Versicolor')\n",
    "ax.set_xlim(-2, 2)\n",
    "ax.set_ylim(-2, 2)\n",
    "plt.show()"
   ]
  },
  {
   "cell_type": "markdown",
   "id": "7cfd9b6f",
   "metadata": {},
   "source": [
    "To summarize, we can use these linear discriminant function based methods to do classification.  The margin size can be adjusted using regularization, and we could also use likelihood that better matches the problem."
   ]
  },
  {
   "cell_type": "markdown",
   "id": "e3805409",
   "metadata": {},
   "source": [
    "#### Maximum Margin Classifier\n",
    "\n",
    "The maximum margin classifier tries to get directly at obtaining the best margin.\n",
    "For a feature vector $\\underset{p\\times 1}{\\mathbf{x}}$ and a weight vector $\\underset{(p)\\times 1}{\\mathbf{w}}$ we want to find\n",
    "$$g(x)=w_0+\\mathbf{w}^T\\mathbf{x}$$\n",
    "For a set of $n$ data $(\\mathbf{x}_1,y_1),\\dots, (\\mathbf{x}_n,y_n)$ if we denote\n",
    "$$\\underset{n\\times p}{\\mathbf{X}}=[\\mathbf{x}_1,\\dots, \\mathbf{x}_n]^T\\mbox{ and } \\mathbf{y}=(y_1,\\dots,y_n)^T$$\n",
    "$\\mathbf{w}$ that maximizes the margin is\n",
    "$$\\mathbf{w}_{SVM}=\\arg_{\\mathbf{w}}\\max \\left\\{\\frac{1}{||\\mathbf{w}||}\\min  y_i(w_0+\\mathbf{w}^T\\mathbf{w})\\right\\}$$\n",
    "\n",
    "Solving this problem directly is difficult, but you can frame it as a constrained optimization problem.\n",
    "$$\\mathbf{w}_{SVM}=\\arg_{\\mathbf{w}}\\min \\left\\{\\frac{1}{2}||\\mathbf{w}||^2\\right\\}$$\n",
    ", s.t. $y_i(w_0+\\mathbf{w}^T\\mathbf{w})\\geq1 \\forall i=1,\\dots, n$\n",
    "\n",
    "We can solve the problem using the Lagrange multiplier.\n",
    "If we let $\\mathbf{a}=(a_1,a_2,\\dots,a_n)^T$ where $a_i\\geq 0$\n",
    "$$L(\\mathbf{w},\\mathbf{a})=\\frac{1}{2}||\\mathbf{w}||^2+\\sum_{i=1}^n a_i(1-y_i(w_0+\\mathbf{w}^T\\mathbf{x}_i))$$\n",
    "$$\\mathbf{w}_{SVM}=\\arg_{\\mathbf{w}}\\min \\max L(\\mathbf{w},\\mathbf{a})$$\n",
    "\n",
    "It is also worth noting that the problem has a dual form\n",
    "\n",
    "$$\\mathbf{a}_{SVM}=\\arg_{\\mathbf{a}} \\max\\left\\{ \\sum^n_{i=1} a_i- \\frac{1}{2} \\sum^n_{i=1} \\sum^n_{j=1} a_i a_j y_i y_j \\mathbf{x}_i^T\\mathbf{x}_j\\right\\}$$\n",
    "\n",
    "s.t,. $\\sum^n_{j=1}a_iy_i$ and $a_i\\geq0,\\forall i=1,\\dots, n$, which gives the same solution.\n",
    "This formulation is nice because we only have $\\mathbf{a}$\n",
    "\n",
    "$$\\mathbf{w}=\\sum^n_{i=1} a_iy_i \\mathbf{x}_i$$"
   ]
  },
  {
   "cell_type": "code",
   "execution_count": 52,
   "id": "913af4ba",
   "metadata": {
    "Rmd_chunk_options": "echo=FALSE,out.width=\"60%\",fig.height=5, fig.width=5",
    "jupyter": {
     "output_hidden": false,
     "source_hidden": true
    },
    "kernel": "Python3",
    "tags": [
     "report_output"
    ]
   },
   "outputs": [],
   "source": [
    "# y=2*(as.integer(iris[1:100,5])-1)-1\n",
    "# x=scale(as.matrix(iris[1:100,3:4]))\n",
    "# dt=data.frame(y,x)\n",
    "# svmfit=svm(y~.,data=dt,kernel=\"linear\",cost=1)\n",
    "#\n",
    "# x1 <- seq(-1.5,1.5,by=0.05)\n",
    "# x2 <- seq(-1.5,1.5,by=0.05)\n",
    "# xgrid <- expand.grid(Petal.Length =x1, Petal.Width=x2)\n",
    "# ccc<-1*(predict(svmfit,newdata=xgrid)>0)\n",
    "#\n",
    "# plot(xgrid[,1],xgrid[,2],col=rgb(ccc,0,abs(1-ccc),alpha=0.1),pch=20,\n",
    "#      xlab=\"Petal.Length\", ylab=\"Petal.Width\",main= \"iris versicolor vs virginica\")\n",
    "# points(x[,1],x[,2],col=rgb(1*(y==1),0,abs(1-1*(y==1)),alpha=1))\n",
    "# points(x[svmfit$index,1],x[svmfit$index,2],pch=3)\n",
    "# betac<- drop(t(svmfit$coefs)%*%x[svmfit$index,])\n",
    "# beta0 <- svmfit$rho\n",
    "# abline(beta0/betac[2],-betac[1]/betac[2])\n",
    "# abline((beta0-1)/betac[2],-betac[1]/betac[2],lty=2)\n",
    "# abline((beta0+1)/betac[2],-betac[1]/betac[2],lty=2)\n",
    "\n",
    "from sklearn.preprocessing import StandardScaler\n",
    "from sklearn.svm import SVC\n",
    "from ISLP.svm import plot as plot_svm\n",
    "\n",
    "# Load iris dataset\n",
    "iris = datasets.load_iris()\n",
    "x = iris.data[:100, 2:4]  # Only consider sepal length and width for the first 100 samples\n",
    "y = 2 * iris.target[:100] - 1  # Convert labels to -1 and 1\n",
    "\n",
    "# Standardize features\n",
    "scaler = StandardScaler()\n",
    "x_scaled = scaler.fit_transform(x)\n",
    "\n",
    "# Fit SVM model\n",
    "svmfit = SVC(kernel='linear', C=1)\n",
    "svmfit.fit(x_scaled, y)\n",
    "\n",
    "fig, ax = plt.subplots()\n",
    "plot_svm(x_scaled,\n",
    "y,\n",
    "svmfit ,\n",
    "ax=ax)\n",
    "plt.show()\n",
    "#\n",
    "# # Create a grid of points for visualization\n",
    "# x1 = np.arange(-1.5, 1.55, 0.05)\n",
    "# x2 = np.arange(-1.5, 1.55, 0.05)\n",
    "# x1_grid, x2_grid = np.meshgrid(x1, x2)\n",
    "# xgrid = pd.DataFrame({'Petal.Length': x1_grid.ravel(), 'Petal.Width': x2_grid.ravel()})\n",
    "#\n",
    "# # Predict using SVM model\n",
    "# ccc = svmfit.predict(xgrid)\n",
    "#\n",
    "# # Plot decision boundary and data points\n",
    "# plt.figure(figsize=(10, 6))\n",
    "# plt.scatter(xgrid.iloc[:, 0], xgrid.iloc[:, 1], c=np.where(ccc > 1, 'blue', 'red'), alpha=0.1)\n",
    "# plt.scatter(x[:, 0], x[:, 1], c=np.where(y == 1, 'blue', 'red'), edgecolors='k')\n",
    "#\n",
    "# # Plot support vectors\n",
    "# plt.scatter(x[svmfit.support_, 0], x[svmfit.support_, 1], marker='o', facecolors='none', edgecolors='black', s=100)\n",
    "#\n",
    "# # Plot decision boundary lines\n",
    "# coef = svmfit.coef_[0]\n",
    "# intercept = svmfit.intercept_[0]\n",
    "# x2_decision_boundary = (-intercept - coef[0] * x1_grid) / coef[1]\n",
    "# plt.plot(x1_grid[0], x2_decision_boundary, color='black')\n",
    "#\n",
    "# # Plot margin lines\n",
    "# margin = 1 / np.sqrt(np.sum(svmfit.coef_ ** 2))\n",
    "# plt.plot(x1_grid[0], x2_decision_boundary + margin, 'k--')\n",
    "# plt.plot(x1_grid[0], x2_decision_boundary - margin, 'k--')\n",
    "#\n",
    "# plt.xlabel('Petal Length')\n",
    "# plt.ylabel('Petal Width')\n",
    "# plt.title('Iris Versicolor vs Virginica')\n",
    "# plt.show()"
   ]
  },
  {
   "cell_type": "markdown",
   "id": "63537606",
   "metadata": {},
   "source": [
    "### Nonlinear case\n",
    "\n",
    "When considering the classification of versicolor vs virginica,\n",
    "linear separation does not seem to work well.   You can tell by looking at the figure since no line can separate blue and red."
   ]
  },
  {
   "cell_type": "code",
   "execution_count": 53,
   "id": "4c5d4d3b",
   "metadata": {
    "Rmd_chunk_options": "echo=FALSE,out.width=\"60%\",fig.height=5, fig.width=5",
    "jupyter": {
     "output_hidden": false,
     "source_hidden": true
    },
    "kernel": "Python3",
    "tags": [
     "report_output"
    ]
   },
   "outputs": [],
   "source": [
    "# y=2*(as.integer(iris[51:150,5])-2)-1\n",
    "# x=scale(as.matrix(iris[51:150,3:4]))\n",
    "# plot(x[,1],x[,2],xlab=names(iris)[3],ylab=names(iris)[4],\n",
    "#      col=rgb(1*(y==1),0,abs(1-1*(y==1)),alpha=1),\n",
    "#      main= \"iris versicolor vs virginica\")\n",
    "from sklearn.preprocessing import StandardScaler\n",
    "# Load iris dataset\n",
    "x = iris.data[50:150, 2:4]  # Consider samples 51 to 150 and features 3 and 4\n",
    "y = 2 * iris.target[50:150] - 3  # Convert labels to -1 and 1 for species 2 and 3\n",
    "\n",
    "# Standardize features\n",
    "scaler = StandardScaler()\n",
    "x_scaled = scaler.fit_transform(x)\n",
    "\n",
    "# Plot features\n",
    "plt.figure(figsize=(8, 6))\n",
    "plt.scatter(x_scaled[:, 0], x_scaled[:, 1], c=np.where(y == 1, 'blue', 'red'), cmap=plt.cm.RdBu, alpha=0.8)\n",
    "plt.xlabel(iris.feature_names[2])\n",
    "plt.ylabel(iris.feature_names[3])\n",
    "plt.title('Iris Versicolor vs Virginica')\n",
    "plt.xlim(-2, 2)\n",
    "plt.ylim(-2, 2)\n",
    "# plt.colorbar(label='Species')\n",
    "plt.grid(True)\n",
    "plt.show()"
   ]
  },
  {
   "cell_type": "markdown",
   "id": "2978087b",
   "metadata": {},
   "source": [
    "As you can see, mixed species are on both sides of the line."
   ]
  },
  {
   "cell_type": "code",
   "execution_count": 54,
   "id": "2a39b26f",
   "metadata": {
    "Rmd_chunk_options": "echo=FALSE,fig.width=12,fig.height=6,out.width=\"80%\",eval=TRUE",
    "jupyter": {
     "output_hidden": false,
     "source_hidden": true
    },
    "kernel": "Python3",
    "tags": [
     "report_output"
    ]
   },
   "outputs": [],
   "source": [
    "# par(mfrow=c(1,2))\n",
    "# cvglm2<-cv.glmnet(x=x,y=y,alpha=0,family=c(\"gaussian\"),standardize=F)\n",
    "#\n",
    "# fit2<-glmnet(x=x,y=y,alpha=0,lambda=cvglm2$lambda.min,family=c(\"gaussian\"),standardize=F)\n",
    "#\n",
    "# cfr=coef(fit2)\n",
    "# plot(x[,1],x[,2],xlab=names(iris)[3],ylab=names(iris)[4],\n",
    "#      col=rgb(1*(y==1),0,abs(1-1*(y==1)),alpha=1),\n",
    "#      main= \"iris versicolor vs virginica\")\n",
    "# abline(0,cfr[3]/cfr[2])\n",
    "# abline(-cfr[1]/cfr[3],-cfr[2]/cfr[3])\n",
    "#\n",
    "# x1 <- seq(-1.5,1.5,by=0.05)\n",
    "# x2 <- seq(-1.5,1.5,by=0.05)\n",
    "# ccc<-(predict(fit2,as.matrix(xgrid),s=50)>0)\n",
    "# xgrid <- expand.grid(Petal.Length =x1, Petal.Width=x2)\n",
    "# plot(xgrid[,1],xgrid[,2],col=rgb(ccc,0,abs(1-ccc),alpha=0.1),pch=20,\n",
    "#      xlab=\"Petal.Length\", ylab=\"Petal.Width\", main= \"iris versicolor vs virginica\")\n",
    "# points(x[,1],x[,2],col=rgb(1*(y==1),0,abs(1-1*(y==1)),alpha=1))\n",
    "\n",
    "# Assuming x and y are numpy arrays containing the predictor variables and response variable, respectively\n",
    "\n",
    "x1 = np.arange(-2.5, 2.55, 0.05)\n",
    "x2 = np.arange(-2.5, 2.55, 0.05)\n",
    "x1_grid, x2_grid = np.meshgrid(x1, x2)\n",
    "xgrid = np.c_[x1_grid.ravel(), x2_grid.ravel()]\n",
    "from sklearn.linear_model import Ridge\n",
    "from sklearn.linear_model import RidgeCV\n",
    "ridgereg =RidgeCV(alphas=[1e-3, 1e-2, 1e-1, 1],fit_intercept=True,cv=5).fit(x_scaled, y)\n",
    "cfr=ridgereg.coef_\n",
    "cfr0=ridgereg.intercept_\n",
    "ccr=ridgereg.predict(xgrid)\n",
    "\n",
    "# Plot 1: Scatter plot with regression lines\n",
    "#plt.subplot(1, 2, 1)\n",
    "fig, ax = plt.subplots()\n",
    "ax.scatter(x_scaled[:, 0], x_scaled[:, 1], c=y, cmap=plt.cm.RdBu, alpha=0.8)\n",
    "ax.set_xlabel('Petal Length')\n",
    "ax.set_ylabel('Petal Width')\n",
    "ax.set_title('iris versicolor vs virginica')\n",
    "\n",
    "abline(ax,-cfr0 / cfr[1],\n",
    "  -cfr[0]/cfr[1],\n",
    "       'g--',\n",
    "       linewidth=1)\n",
    "ax.scatter(xgrid[:, 0], xgrid[:, 1], c=np.where(ccr >0, 'blue', 'red'), cmap=plt.cm.RdBu, alpha=0.1)\n",
    "ax.scatter(x_scaled[:, 0], x_scaled[:, 1], c=np.where(y == 1, 'blue', 'red'), cmap=plt.cm.RdBu, alpha=1)\n",
    "ax.set_xlabel('Petal Length')\n",
    "ax.set_ylabel('Petal Width')\n",
    "ax.set_title('iris versicolor vs virginica')\n",
    "ax.set_xlim(-2.5, 2.5)\n",
    "ax.set_ylim(-2.5, 2.5)\n",
    "\n",
    "plt.show()"
   ]
  },
  {
   "cell_type": "markdown",
   "id": "70f6ab64",
   "metadata": {},
   "source": [
    "Since no line will separate the two groups, what should we do?"
   ]
  },
  {
   "cell_type": "markdown",
   "id": "e482dd51",
   "metadata": {},
   "source": [
    "#### Kernels\n",
    "\n",
    "We can use kernels.  Kernels measure similarity in some ways.\n",
    "\n",
    "- Kernels are symmetric:\n",
    "$$\\kappa(\\mathbf{x},\\mathbf{x}')=\\kappa(\\mathbf{x}',\\mathbf{x})$$\n",
    "- $\\mathbf{x}=argmax_{\\mathbf{x}'} \\kappa(\\mathbf{x},\\mathbf{x}')$ under $||\\boldsymbol{\\phi}(x)||=||\\boldsymbol{\\phi}(x)||$\n",
    "\n",
    "- Popular kernels:\n",
    "  - Linear $k_{1}=\\mathbf{x}^T\\mathbf{x}'$\n",
    "  - Polynomial $k_{d}=\\left(1+\\sum_{j=1}^p x_{ij}x_{i'j}\\right)^d$\n",
    "  - Normalized $k_{2}=\\frac{\\mathbf{x}^T\\mathbf{x}'}{||\\mathbf{x}||\\cdot ||\\mathbf{x}'||}$\n",
    "  - RBF $k_{rbf}=\\exp\\left(\\frac{-||\\mathbf{x}-\\mathbf{x}'||^2}{2}\\right)$\n",
    "  - Mahalonobis $k_{m}=\\mathbf{x}^T\\mathbf{A}\\mathbf{x}'$\n",
    "  - Sigmoid $k_{s}=\\tanh (\\mathbf{x}^T\\mathbf{A}\\mathbf{x}'+c)$"
   ]
  },
  {
   "cell_type": "markdown",
   "id": "ba2c1cef",
   "metadata": {},
   "source": [
    "#### Kernel ridge regression\n",
    "\n",
    "Let's define $p+1$ functions $\\phi_0,\\dots,\\phi_j$ that would transform $\\mathbf{x}$ such that\n",
    "$z_j = \\phi_j(\\mathbf{x})$ for $j = 0,\\dots, p$. For convenience, we define $z_0 =\\phi_0(\\mathbf{x})=1$.  We will define a matrix of transformed $\\mathbf{x}$ as\n",
    "$$\\mathbf{z}=\\boldsymbol{\\phi}(\\mathbf{x})=(\\phi_0(\\mathbf{x}),\\dots, \\phi_p(\\mathbf{x}))^T$$\n",
    "Rather than working on the original feature space $\\mathbf{x}$ we think of linear discrimination on space of $\\mathbf{z}$.\n",
    "$$g(\\mathbf{z})=\\mathbf{w}^T\\mathbf{z}$$\n",
    "When we want to see $g(\\mathbf{z})$ as function of $x$ we will write\n",
    "$$g_{\\phi}(\\mathbf{x})=g(\\mathbf{z})=g(\\boldsymbol{\\phi}(\\mathbf{x}))$$\n",
    "- If we solve the ridge regression for the set of n observations $(\\mathbf{z}_1,y_1),\\dots, (\\mathbf{z}_n,y_n)$ that is if we try to minimize\n",
    "$$J_{\\lambda}=\\frac{1}{2}||\\mathbf{Z}\\mathbf{w}-\\mathbf{y}||^2+\\frac{\\lambda}{2}||\\mathbf{w}||^2$$ wrt $\\mathbf{w}$ we get\n",
    "$$\\hat{\\mathbf{w}}_{\\lambda}=(\\mathbf{Z}^T\\mathbf{Z}+\\lambda\\mathbf{I})^{-1}\\mathbf{Z}^T \\mathbf{y}$$\n",
    "Which is the ridge regression estimate with $\\mathbf{Z}$.\n",
    "\n",
    "Take the derivative of $J_{\\lambda}$ wrt $\\mathbf{w}$ and set it equal to 0.\n",
    "$$\\frac{\\partial J_{\\lambda}}{\\partial\\mathbf{w} } =\\mathbf{Z}^T(\\mathbf{Z}\\hat{\\mathbf{w}}_{\\lambda}-\\mathbf{y})+\\lambda\\hat{\\mathbf{w}}_{\\lambda}=0$$\n",
    "Solving for $\\hat{\\mathbf{w}}_{\\lambda}$ we get\n",
    "$$\\hat{\\mathbf{w}}_{\\lambda} =-\\frac{1}{\\lambda}\\mathbf{Z}^T(\\mathbf{Z}-\\mathbf{y})$$\n",
    "If we let $\\mathbf{a}_{\\lambda}=-\\frac{1}{\\lambda}(\\mathbf{Z}-\\mathbf{y})$ then\n",
    "$$\\hat{\\mathbf{w}}_{\\lambda} =\\mathbf{Z}^T\\mathbf{a}_{\\lambda}=\\sum^n_{i=1} a_{\\lambda,i}\\boldsymbol{\\phi}(x_i)$$\n",
    "Therefore we can rewrite $g_{\\phi}(\\mathbf{x})$ as\n",
    "$$g_{\\phi}(\\mathbf{x})=g(\\boldsymbol{\\phi}(\\mathbf{x}))=\\mathbf{w}_{\\lambda}\\mathbf{z}=\\mathbf{a}_{\\lambda}^T\\mathbf{Z}\\mathbf{z}=\\sum^n_{i=1} a_{\\lambda,i}\\boldsymbol{\\phi}(x_i)\\boldsymbol{\\phi}(x)$$\n",
    "We define kernel function $\\kappa(\\mathbf{x},\\mathbf{x}')=\\boldsymbol{\\phi}(\\mathbf{x})^T\\boldsymbol{\\phi}(\\mathbf{x}')$\n",
    "then we can rewrite\n",
    "$$g_{\\phi}(\\mathbf{x})=\\sum^n_{i=1} a_{\\lambda,i}\\kappa(\\mathbf{x}_i,\\mathbf{x})$$\n",
    "If we plug $\\mathbf{w}=\\mathbf{Z}^T\\mathbf{a}_{\\lambda}$\n",
    "$$J_{\\lambda}=\\frac{1}{2}||\\mathbf{Z}\\mathbf{Z}^T\\mathbf{a}_{\\lambda}-\\mathbf{y}||^2+\\frac{\\lambda}{2}||\\mathbf{Z}^T\\mathbf{a}_{\\lambda}||^2$$\n",
    "Take derivative wrt $\\mathbf{a}$ and setting it to 0 we get\n",
    "$$\\frac{\\partial J_{\\lambda}}{\\partial\\mathbf{a} } =\\mathbf{Z}\\mathbf{Z}^T(\\mathbf{Z}\\mathbf{Z}^T\\mathbf{a}-\\mathbf{y})+\\lambda\\mathbf{Z}\\mathbf{Z}^T\\mathbf{a}=0$$\n",
    "Solving for $\\hat{\\mathbf{a}}_{\\lambda}$ yields\n",
    "$$\\hat{\\mathbf{a}}_{\\lambda}=(\\mathbf{Z}\\mathbf{Z}^T+\\lambda\\mathbf{I})^{-1} \\mathbf{y}$$\n",
    "\n",
    "If we define a kernel as\n",
    "$$\\mathbf{k}(\\mathbf{x}) = \\left(\\kappa(\\mathbf{x}_1,\\mathbf{x}),\\kappa(\\mathbf{x}_2,\\mathbf{x}),\\dots , \\kappa(\\mathbf{x}_n,\\mathbf{x})\\right)^T$$ Kernel ridge regression prediction can be expressed as\n",
    "$$g_{\\phi}(\\mathbf{x})=\\mathbf{a}_{\\lambda}^T\\mathbf{k}(\\mathbf{x})=\n",
    "\\mathbf{y}^T(\\mathbf{G}+\\lambda \\mathbf{I})^{-1}\\mathbf{k}(\\mathbf{x})$$ where $\\mathbf{G}=\\mathbf{Z}\\mathbf{Z}^T$ is called the Gram matrix.\n",
    "\n",
    "Using RBF kernel\n",
    "$$k_{rbf}=\\exp\\left(\\frac{-||\\mathbf{x}-\\mathbf{x}'||^2}{2}\\right)$$\n",
    "The resulting decision boundary looks like"
   ]
  },
  {
   "cell_type": "code",
   "execution_count": 55,
   "id": "f41420a4",
   "metadata": {
    "Rmd_chunk_options": "echo=FALSE,out.width=\"60%\",fig.height=5, fig.width=5,eval=TRUE",
    "jupyter": {
     "output_hidden": false,
     "source_hidden": true
    },
    "kernel": "Python3",
    "tags": [
     "report_output"
    ]
   },
   "outputs": [],
   "source": [
    "def rbfdot(x, y, sigma=1):\n",
    "    \"\"\"\n",
    "    Computes the radial basis function (RBF) kernel between two vectors x and y.\n",
    "\n",
    "    Parameters:\n",
    "    - x, y: Input vectors.\n",
    "    - sigma: Parameter for the RBF kernel.\n",
    "\n",
    "    Returns:\n",
    "    - RBF kernel value between x and y.\n",
    "    \"\"\"\n",
    "    return np.exp(-np.linalg.norm(x - y) ** 2 / (2 * sigma ** 2))\n",
    "\n",
    "def kernelMatrix(kernel_func, X, Y):\n",
    "    \"\"\"\n",
    "    Computes the kernel matrix given a kernel function and sets of data points X and Y.\n",
    "\n",
    "    Parameters:\n",
    "    - kernel_func: The kernel function.\n",
    "    - X, Y: Numpy arrays of shape (n_samples_X, n_features) and (n_samples_Y, n_features) respectively.\n",
    "\n",
    "    Returns:\n",
    "    - K: The kernel matrix of shape (n_samples_X, n_samples_Y).\n",
    "    \"\"\"\n",
    "    n_samples_X = X.shape[0]\n",
    "    n_samples_Y = Y.shape[0]\n",
    "    K = np.zeros((n_samples_X, n_samples_Y))\n",
    "    for i in range(n_samples_X):\n",
    "        for j in range(n_samples_Y):\n",
    "            K[i, j] = kernel_func(X[i], Y[j])\n",
    "    return K\n",
    "\n",
    "from numpy.linalg import inv\n",
    "grma = kernelMatrix(rbfdot, x_scaled, x_scaled)\n",
    "lambda_val=0.1\n",
    "aa=np.dot(np.dot(y.T, inv(grma + lambda_val * np.eye(100))),kernelMatrix(rbfdot, x_scaled, xgrid))\n",
    "\n",
    "ccc = np.where(aa>0 , 1, -1)\n",
    "\n",
    "def rbf_kernel_custom(X, Y, gamma=1.0):\n",
    "    \"\"\"\n",
    "    Custom implementation of the RBF kernel\n",
    "    \"\"\"\n",
    "    pairwise_sq_dists = -2 * np.dot(X, Y.T) + np.sum(X ** 2, axis=1)[:, np.newaxis] + np.sum(Y ** 2, axis=1)\n",
    "    K = np.exp(-gamma * pairwise_sq_dists)\n",
    "    return K\n",
    "\n",
    "# Plotting\n",
    "plt.figure(figsize=(8, 6))\n",
    "plt.scatter(xgrid[:, 0], xgrid[:, 1], c=np.where(ccc == 1, 'blue', 'red'), cmap=plt.cm.RdBu, alpha=0.1)\n",
    "plt.scatter(x_scaled[:, 0], x_scaled[:, 1], c=np.where(y == 1, 'blue', 'red'), cmap=plt.cm.RdBu, alpha=1)\n",
    "plt.xlabel('Petal Length')\n",
    "plt.ylabel('Petal Width')\n",
    "plt.title('Iris Versicolor vs Virginica')\n",
    "plt.xlim(-2.5, 2.5)\n",
    "plt.ylim(-2.5, 2.5)\n",
    "#plt.colorbar(label='Species')\n",
    "plt.show()"
   ]
  },
  {
   "cell_type": "markdown",
   "id": "c07b08b3",
   "metadata": {},
   "source": [
    "What have we gained?\n",
    "\n",
    "\\begin{eqnarray*}\n",
    "\\mathbf{Z}\\mathbf{Z}^T &=&\n",
    "\\left[\n",
    "\\begin{array}{llll}\n",
    "\\boldsymbol{\\phi}(x_1)\\boldsymbol{\\phi}(x_1) &\\dots&\\boldsymbol{\\phi}(x_1)\\boldsymbol{\\phi}(x_n)\\\\\n",
    "&\\ddots&\\\\\n",
    "\\boldsymbol{\\phi}(x_n)\\boldsymbol{\\phi}(x_1) &\\dots&\\boldsymbol{\\phi}(x_n)\\boldsymbol{\\phi}(x_n)\n",
    "\\end{array}\n",
    "\\right]\\\\\n",
    "&=&\n",
    "\\left[\n",
    "\\begin{array}{llll}\n",
    "\\kappa(\\mathbf{x}_1,\\mathbf{x}_1) &\\dots&\\kappa(\\mathbf{x}_1,\\mathbf{x}_n)\\\\\n",
    "&\\ddots&\\\\\n",
    "\\kappa(\\mathbf{x}_n,\\mathbf{x}_1) &\\dots&\\kappa(\\mathbf{x}_n,\\mathbf{x}_n)\n",
    "\\end{array}\n",
    "\\right]\n",
    "\\end{eqnarray*}\n",
    "\n",
    "The matrix $\\mathbf{G}=\\mathbf{Z}\\mathbf{Z}^T$ is called the Gram matrix.\n",
    "\n",
    "Instead of $\\mathbf{X}^T\\mathbf{X}$ now we have $\\mathbf{Z}\\mathbf{Z}^T$\n",
    "\n",
    "1. computational efficiency when $p>>n$\n",
    "2. generalization: kernel function does not need explicit $\\boldsymbol{\\phi}(x)$"
   ]
  },
  {
   "cell_type": "markdown",
   "id": "f0d2e16b",
   "metadata": {},
   "source": [
    "#### Kernel SVM\n",
    "\n",
    "If we let $z_i= \\boldsymbol{\\Phi}(x_i)$\n",
    "\n",
    "\\begin{eqnarray}\n",
    "L_{dual}(\\mathbf{a})&=& \\sum^n_{i=1} a_i- \\frac{1}{2} \\sum^n_{i=1} \\sum^n_{j=1} a_i a_j y_i y_j \\mathbf{z}_i^T\\mathbf{z}_j\\\\\n",
    "&=&\\sum^n_{i=1} a_i- \\frac{1}{2} \\sum^n_{i=1} \\sum^n_{j=1} a_i a_j y_i y_j \\kappa(\\mathbf{x}_i,\\mathbf{x}_j)\n",
    "\\end{eqnarray}\n",
    "\n",
    "$$\\mathbf{w}=\\sum^n_{i=1} a_iy_i \\mathbf{z}_i$$\n",
    "\n",
    "----\n",
    "\n",
    "Therefore we have the optimization problem using the kernel function.\n",
    "\n",
    "$$\\mathbf{a}_{SVM}=\\arg_{\\mathbf{a}} \\max\\left\\{ \\sum^n_{i=1} a_i- \\frac{1}{2} \\sum^n_{i=1} \\sum^n_{j=1} a_i a_j y_i y_j\\kappa(\\mathbf{x}_i,\\mathbf{x}_j)\\right\\}$$\n",
    "\n",
    "\n",
    "s.t,. $\\sum^n_{j=1}a_iy_i$ and $a_i\\geq0,\\forall i=1,\\dots, n$\n",
    "$$\\mathbf{w}=\\sum^n_{i=1} a_iy_i \\mathbf{x}_i$$\n",
    "\n",
    "Prediction of new observations can be made as\n",
    "$$g(\\mathbf{z})=w_0+\\mathbf{w}^T\\mathbf{z}=w_0+\\sum^n_{i=1} a_iy_i \\mathbf{z}_i\\mathbf{z}\n",
    "=w_0+\\sum^n_{i\\in S} a_iy_i\\kappa(\\mathbf{x}_i,\\mathbf{x})$$\n",
    "\n",
    "Which shows you only need the support vectors for prediction."
   ]
  },
  {
   "cell_type": "code",
   "execution_count": 56,
   "id": "75495952",
   "metadata": {
    "Rmd_chunk_options": "echo=FALSE,out.width=\"60%\",fig.height=5, fig.width=5",
    "jupyter": {
     "output_hidden": false,
     "source_hidden": true
    },
    "kernel": "Python3",
    "tags": [
     "report_output"
    ]
   },
   "outputs": [],
   "source": [
    "x = iris.data[50:150, 2:4]  # Consider samples 51 to 150 and features 3 and 4\n",
    "y = 2 * iris.target[50:150] - 3  # Convert labels to -1 and 1 for species 2 and 3\n",
    "\n",
    "# Scale features\n",
    "scaler = StandardScaler()\n",
    "x_scaled = scaler.fit_transform(x)\n",
    "\n",
    "# Fit SVM model\n",
    "svmfit = SVC(kernel='rbf', C=1, gamma=5)\n",
    "svmfit.fit(x_scaled, y)\n",
    "\n",
    "fig, ax = plt.subplots()\n",
    "plot_svm(x_scaled,\n",
    "    y,\n",
    "    svmfit ,\n",
    "    ax=ax)\n",
    "plt.show()"
   ]
  },
  {
   "cell_type": "markdown",
   "id": "304b48e7",
   "metadata": {},
   "source": [
    "### Multiclass SVM\n",
    "\n",
    "You can classify multi-class using binary algorithms like SVM or logistic regression.  SVM in R uses OVO.  We will not go into detail here."
   ]
  },
  {
   "cell_type": "code",
   "execution_count": 57,
   "id": "a1444237",
   "metadata": {
    "Rmd_chunk_options": "echo=FALSE,out.width=\"60%\",fig.height=5, fig.width=5",
    "jupyter": {
     "output_hidden": false,
     "source_hidden": true
    },
    "kernel": "Python3",
    "tags": [
     "report_output"
    ]
   },
   "outputs": [],
   "source": [
    "from sklearn.svm import SVC\n",
    "from sklearn.model_selection import GridSearchCV\n",
    "from sklearn.preprocessing import StandardScaler\n",
    "iris = datasets.load_iris()\n",
    "x = iris.data[:, 2:]  # Petal length and width\n",
    "y = iris.target\n",
    "\n",
    "# Fit SVM model\n",
    "model = SVC(kernel='rbf', C=1, gamma=1)\n",
    "model.fit(x, y)\n",
    "\n",
    "# Create a grid of points for visualization\n",
    "x0_min, x0_max = x[:, 0].min() - 1, x[:, 0].max() + 1\n",
    "x1_min, x1_max = x[:, 1].min() - 1, x[:, 1].max() + 1\n",
    "xx0, xx1 = np.meshgrid(np.arange(x0_min, x0_max, 0.02),\n",
    "                        np.arange(x1_min, x1_max, 0.02))\n",
    "xgrid = np.c_[xx0.ravel(), xx1.ravel()]\n",
    "\n",
    "# Predict the class labels for the grid points\n",
    "ccc = model.predict(xgrid)\n",
    "\n",
    "# Plot the decision boundaries and data points\n",
    "#plt.figure()\n",
    "plt.scatter(xgrid[:, 0], xgrid[:, 1], c=ccc, cmap=plt.cm.Paired, alpha=0.1)\n",
    "plt.scatter(x[:, 0], x[:, 1], c=y, cmap=plt.cm.Paired, edgecolors='k')\n",
    "\n",
    "plt.xlabel('Petal Length')\n",
    "plt.ylabel('Petal Width')\n",
    "plt.title('Iris Versicolor vs Virginica')\n",
    "plt.show()"
   ]
  },
  {
   "cell_type": "markdown",
   "id": "24192441",
   "metadata": {},
   "source": [
    "### SVR (support vector regression)\n",
    "\n",
    "SVM is not just for classification.  We can also make use of SVM for a regression problem.\n",
    "The idea is like the kernel ridge regression.  In ridge regression, we minimize the penalized likelihood objective function.   This implies every data point has a say in the fit of the model.\n",
    "\n",
    "To obtain a sparse solution SVM regression uses $\\epsilon$ insensitive error function"
   ]
  },
  {
   "cell_type": "code",
   "execution_count": 58,
   "id": "4ff559f9",
   "metadata": {
    "kernel": "Python3",
    "tags": [
     "report_cell"
    ]
   },
   "outputs": [],
   "source": [
    "# Generate data\n",
    "x = np.arange(-20, 20, 0.1)\n",
    "y = np.sin(x) / (0.3 * x + 0.001) + np.random.normal(scale=0.05, size=len(x))\n",
    "\n",
    "# Create a DataFrame\n",
    "data_sim = pd.DataFrame({'x': x, 'y': y})"
   ]
  },
  {
   "cell_type": "code",
   "execution_count": 59,
   "id": "22f70d91",
   "metadata": {
    "Rmd_chunk_options": "warning=FALSE",
    "kernel": "Python3",
    "tags": [
     "report_cell"
    ]
   },
   "outputs": [],
   "source": [
    "fit1 = LinearRegression().fit(x[:,None], y)\n",
    "intercept = fit1.intercept_\n",
    "slope = fit1.coef_\n",
    "# Plot the best-fit line\n",
    "fig, ax = plt.subplots()\n",
    "ax.scatter(x, y, label='Data')\n",
    "abline(ax,\n",
    "       intercept,\n",
    "       slope,\n",
    "       'r--',\n",
    "       linewidth=3)\n",
    "\n",
    "plt.title('Scatter Plot with Best-fit Line')\n",
    "plt.xlabel('x')\n",
    "plt.ylabel('y')\n",
    "plt.legend()\n",
    "plt.grid(True)\n",
    "plt.show()\n",
    "#Load Library\n",
    "#library(e1071)\n",
    "from sklearn.svm import SVR\n",
    "from sklearn.model_selection import GridSearchCV\n",
    "modelsvm = SVR()\n",
    "modelsvm.fit(x[:,None], y)\n",
    "\n",
    "\n",
    "# Predict using SVM regression\n",
    "predYsvm = modelsvm.predict(x[:,None])\n",
    "\n",
    "# Plot original data and SVM predictions\n",
    "plt.scatter(x, y, label='Original Data', color='black')\n",
    "plt.scatter(x, predYsvm, label='SVM Predictions', color='red', marker='o')\n",
    "\n",
    "# Tune the SVM model\n",
    "from sklearn.metrics import make_scorer\n",
    "from sklearn.metrics import mean_squared_error\n",
    "scorer = make_scorer(mean_squared_error, greater_is_better=False)\n",
    "param_grid = {'C': np.linspace(0.00001, 10, 11)}\n",
    "#param_grid = [{'kernel': ['rbf'], 'gamma': [1e-4, 1e-3, 0.01, 0.1, 0.2, 0.5, 0.6, 0.9],'C': [0.00001, 0.0001, 0.001, 0.01, 0.1,1,10,100]}]\n",
    "\n",
    "grid_search = GridSearchCV(SVR(epsilon = 0.01,gamma=0.1 ), param_grid, cv=5,scoring=scorer)\n",
    "grid_search.fit(x[:,None], y)\n",
    "\n",
    "# Print the best parameters\n",
    "print(\"Best Parameters:\", grid_search.best_params_)\n",
    "\n",
    "# Predict using the best model\n",
    "PredYBst = grid_search.predict(x[:,None])\n",
    "\n",
    "# Plot the performance of SVM Regression model\n",
    "plt.figure()\n",
    "plt.plot(param_grid['C'], grid_search.cv_results_['mean_test_score'], marker='o')\n",
    "plt.title('Performance of SVM Regression Model')\n",
    "plt.xlabel('C')\n",
    "plt.ylabel('Mean Test Score')\n",
    "\n",
    "# Plotting original data, SVM predictions, and tuned model predictions\n",
    "plt.figure()\n",
    "plt.scatter(x, y, label='Original Data', color='black')\n",
    "plt.plot(x, predYsvm, label='SVM Predictions', color='blue')\n",
    "plt.plot(x, PredYBst, label='Tuned Model Predictions', color='red')\n",
    "plt.title('SVR Model and Tuned Model')\n",
    "plt.legend()\n",
    "plt.show()"
   ]
  },
  {
   "cell_type": "markdown",
   "id": "97202831",
   "metadata": {},
   "source": [
    "### RVM (relevance vector machine) [Tipping, 2001]\n",
    "\n",
    "RVM is a Bayesian kernel regression similar to kernel ridge regression.\n",
    "The likelihood is defined as\n",
    "$$p(\\mathbf{y}|\\mathbf{x},\\mathbf{w},\\beta,\\sigma^2 )=\\prod_{i=1}^n N(y_i|f(x_i ),\\sigma^2 )$$\n",
    "where $$f(\\mathbf{x})=\\sum_{i=1}^n w_i \\kappa(x,x_i)+\\beta_0$$\n",
    "The prior is defined as\n",
    "$$p(\\mathbf{w}|\\alpha)=\\prod_{i=1}^M N(w_i|0,\\alpha_i^{-1})$$\n",
    "$$p(\\mathbf{w}|y,X,\\alpha,\\sigma)=N(\\mathbf{w}|m,\\Sigma)$$\n",
    "\n",
    "- $m=1/\\sigma^2 \\Sigma \\boldsymbol{\\phi}^T y$\n",
    "- $\\Sigma =(A+1/\\sigma^2  \\boldsymbol{\\phi}^T\\boldsymbol{\\phi})^{-1}$\n",
    "- $\\mathbf{A}=diag(\\alpha_i)$\n",
    "\n",
    "RVM is similar to kernel SVM regression, but its solution is usually more sparse and requires less tuning.\n",
    "However, the downside is that they require more computation.  For both SVMR and RVM determining the right sigma for the RBF kernel may be challenging."
   ]
  },
  {
   "cell_type": "code",
   "execution_count": 60,
   "id": "f5a77ccf",
   "metadata": {
    "kernel": "Python3",
    "tags": [
     "report_cell"
    ]
   },
   "outputs": [],
   "source": [
    "from sklearn_rvm import EMRVR\n",
    "\n",
    "model = EMRVR(kernel=\"rbf\")\n",
    "model.fit(x[:, None], y)\n",
    "y, y_std = model.predict(x[:, None], return_std=True)\n",
    "\n",
    "plt.scatter(x, y, facecolor=\"none\", edgecolor=\"g\", label=\"training\")\n",
    "plt.scatter(x[model.relevance_], y[model.relevance_], s=100, facecolor=\"none\", edgecolor=\"b\", label=\"relevance vector\")\n",
    "plt.plot(x[:, None], y, color=\"r\", label=\"predict mean\")\n",
    "plt.fill_between(x, y - y_std, y + y_std, color=\"pink\", alpha=0.2, label=\"predict std.\")\n",
    "plt.legend(loc=\"best\")\n",
    "plt.show()"
   ]
  },
  {
   "cell_type": "markdown",
   "id": "10265f62",
   "metadata": {},
   "source": [
    "### Kernel smoothing\n",
    "\n",
    "Kernels help define neighborhoods.  They are useful in finding smoothing lines.\n",
    "\n",
    "Popular kernels are Epanechnikov"
   ]
  },
  {
   "cell_type": "code",
   "execution_count": 61,
   "id": "9a72d0a7",
   "metadata": {
    "Rmd_chunk_options": "eval=TRUE",
    "kernel": "Python3",
    "tags": [
     "report_cell"
    ]
   },
   "outputs": [],
   "source": [
    "def epanechnikov(x):\n",
    "    return 0.75 * (1 - x ** 2) * (np.abs(x) <= 1)\n",
    "\n",
    "x = np.linspace(-3, 3, 1000)\n",
    "y = epanechnikov(x)\n",
    "\n",
    "plt.plot(x, y)\n",
    "plt.title('Epanechnikov Kernel Function')\n",
    "plt.xlabel('x')\n",
    "plt.ylabel('Kernel Value')\n",
    "plt.grid(True)\n",
    "plt.show()"
   ]
  },
  {
   "cell_type": "markdown",
   "id": "b9bab853",
   "metadata": {},
   "source": [
    "Tri Cubic"
   ]
  },
  {
   "cell_type": "code",
   "execution_count": 62,
   "id": "544b6eed",
   "metadata": {
    "Rmd_chunk_options": "eval=TRUE",
    "kernel": "Python3",
    "tags": [
     "report_cell"
    ]
   },
   "outputs": [],
   "source": [
    "def tri_cubic(x):\n",
    "    ax = np.abs(x)\n",
    "    return 70. / 81 * (1 - ax ** 3) ** 3 * (ax <= 1)\n",
    "\n",
    "x = np.linspace(-3, 3, 1000)\n",
    "y = tri_cubic(x)\n",
    "\n",
    "plt.plot(x, y)\n",
    "plt.title('Tri-Cubic Kernel Function')\n",
    "plt.xlabel('x')\n",
    "plt.ylabel('Kernel Value')\n",
    "plt.grid(True)\n",
    "plt.show()"
   ]
  },
  {
   "cell_type": "markdown",
   "id": "d91f579c",
   "metadata": {},
   "source": [
    "You can do locally weighted regression to fit a smooth line."
   ]
  },
  {
   "cell_type": "code",
   "execution_count": 63,
   "id": "1bba2247",
   "metadata": {
    "Rmd_chunk_options": "eval=TRUE",
    "kernel": "Python3",
    "tags": [
     "report_cell"
    ]
   },
   "outputs": [],
   "source": [
    "from scipy.stats import norm\n",
    "from statsmodels.api import GLM, families\n",
    "import statsmodels.formula.api as smf\n",
    "\n",
    "def K(xi, xp, D=norm.pdf, lambda_val=1):\n",
    "  return D( np.abs(xi - xp) / lambda_val)\n",
    "\n",
    "def ks(x, y, b, lambda_val, D=norm.pdf, family=families.Gaussian()):\n",
    "    def inner_function(xp):\n",
    "        w = K(x,xp,D,lambda_val) # np.apply_along_axis(K, axis=0, arr=x)\n",
    "        B = b(x).T #np.apply_along_axis(b, axis=1, arr=x).T\n",
    "        km = sm.GLM(y, B, family=family,var_weights=w).fit()\n",
    "        return np.sum(b(xp).T * km.params)\n",
    "    return inner_function"
   ]
  },
  {
   "cell_type": "markdown",
   "id": "aa31c981",
   "metadata": {},
   "source": [
    "Here is an example from the Elements of Statistical Learning comparing the loess and kernel smoothing method."
   ]
  },
  {
   "cell_type": "code",
   "execution_count": 64,
   "id": "4d6b10ca",
   "metadata": {
    "kernel": "Python3",
    "tags": [
     "report_cell"
    ]
   },
   "outputs": [],
   "source": [
    "def b(x):\n",
    "    return np.array([np.ones_like(x), x, x**2])\n",
    "\n",
    "bone=pd.read_csv(\"bone.tab\", sep='\\t')\n",
    "y = bone.loc[bone['gender'] == \"female\", 'spnbmd']\n",
    "x = bone.loc[bone['gender'] == \"female\", 'age']\n",
    "\n",
    "# Define bandwidth parameter\n",
    "lambda_val = 5\n",
    "\n",
    "# Compute estimated values\n",
    "xp = np.linspace(min(x), max(x), num=200)\n",
    "fp = np.array([ks(x, y, b, lambda_val, D=tri_cubic)(xp_val) for xp_val in xp])\n",
    "\n",
    "from scipy.interpolate import interp1d\n",
    "# Plot data points\n",
    "plt.scatter(x, y, marker='o', color='gray', label='Data', edgecolor='black')\n",
    "\n",
    "# Plot line with xp and fp\n",
    "plt.plot(xp, fp, color='black', linewidth=2, label='Line')\n",
    "# LOESS fitting\n",
    "lowess = sm.nonparametric.lowess\n",
    "y_fitted=lowess(y, x)\n",
    "\n",
    "plt.plot(y_fitted[:,0], y_fitted[:,1], color='blue', linewidth=2, label='LOESS')\n",
    "\n",
    "plt.xlabel('X')\n",
    "plt.ylabel('Y')\n",
    "plt.legend()\n",
    "plt.grid(True)\n",
    "plt.show()"
   ]
  }
 ],
 "metadata": {
  "Rmd_chunk_options": {
   "author": "Masanao Yajima",
   "date": "2023-01-05",
   "output": "html_document",
   "title": "Kernel and SVM"
  },
  "kernelspec": {
   "display_name": "base",
   "language": "python",
   "name": "python3"
  },
  "language_info": {
   "codemirror_mode": {
    "name": "ipython",
    "version": 3
   },
   "file_extension": ".py",
   "mimetype": "text/x-python",
   "name": "python",
   "nbconvert_exporter": "python",
   "pygments_lexer": "ipython3",
   "version": "3.9.7"
  },
  "sos": {
   "kernels": [
    [
     "SoS",
     "sos",
     "",
     ""
    ],
    [
     "R",
     "ir",
     "",
     ""
    ],
    [
     "css",
     "css",
     "",
     ""
    ],
    [
     "Python3",
     "ir",
     "",
     ""
    ]
   ]
  }
 },
 "nbformat": 4,
 "nbformat_minor": 5
}
